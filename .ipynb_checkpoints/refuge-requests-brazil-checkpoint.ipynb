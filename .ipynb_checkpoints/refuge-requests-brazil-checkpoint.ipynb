{
 "cells": [
  {
   "cell_type": "markdown",
   "id": "7181ce59",
   "metadata": {},
   "source": [
    "# Solicitações de refúgio no Brasil\n",
    "##### Elaborado por Bruna Lopes, Paula Duque, Rogério Silva e Yasmini Gomes"
   ]
  },
  {
   "cell_type": "markdown",
   "id": "2000ad9f",
   "metadata": {},
   "source": [
    "## Contextualização\n",
    "\n",
    "Com a Convenção de 1951, imigrantes que buscavam por proteção ou melhores condições de vida em outro país foram entitulados refugiados e foi estipulado o princípio denominado non-refoulement, que estabelece a não obrigatoriedade de\n",
    "retorno ao país de origem. Dentre os fatores que desencadeiam esse processo, destacamos: condição de vida miserável, perseguição política, discriminação racial e existência de conflitos armados.\n",
    "\n",
    "De acordo com o Comitê Nacional para Refugiados (Conare), a quantidade de pessoas que pedem refúgio no Brasil vem aumentando a cada ano. Isso ocorre em função da permissividade das leis nacionais, quando comparadas aos países da Europa e dos\n",
    "Estados Unidos, que são restritivos quanto à legalidade dos imigrantes e acesso aos recursos. A legislação brasileira, redigida em parceria com o Alto Comissariado das Nações Unidas para Refugiados (Acnur), é considerada pela ONU como uma das\n",
    "mais modernas e abrangentes do mundo.\n",
    "\n",
    "A responsabilidade do país em receber refugiados abrange diversas esferas, dentre as quais podemos citar: Direitos Humanos, Polícia Federal, Ministério das Relações Exteriores, Ministério da Saúde, Trabalho e Educação. Cada uma dessas desempenha\n",
    "um papel para auxiliar na integração entre os refugiados e a população local, ao passo que seja garantam o cumprimento dos direitos universais, integração no mercado de trabalho e apoio psíquico, dentre outras questões.\n"
   ]
  },
  {
   "cell_type": "markdown",
   "id": "8de5d88c",
   "metadata": {},
   "source": [
    "## Objetivo\n",
    "\n",
    "Diante do aumento na quantidade de refugiados no Brasil, o objetivo desse projeto é elaborar um dashboard que auxilie a área de estratégia do Governo no acompanhamento das solicitações de refúgio, bem como no mapeamento de quais localidades possuem um maior número de solicitações e se apresentam uma infraestrutura adequada para suportar essa demanda. A partir disso, poderão ser identificadas regiões críticas e criadas novas políticas públicas."
   ]
  },
  {
   "cell_type": "markdown",
   "id": "136c5396",
   "metadata": {},
   "source": [
    "## Hipóteses e questões\n",
    "\n",
    "- Quantas solicitações de refúgio o Brasil recebe por ano?\n",
    "- Quantas nacionalidades enxergam o Brasil como refúgio?\n",
    "- Quais foram os principais eventos que causaram impacto no crescimento de refugiados no Brasil?\n",
    "- Quais estados brasileiros mais recebem refugiados?\n",
    "- Quais estados possuem programas de acolhimento?\n",
    "- Quanto tempo, em média, demora para que uma solicitação de refúgio seja julgada?"
   ]
  },
  {
   "cell_type": "markdown",
   "id": "82c08d5e",
   "metadata": {},
   "source": [
    "## Etapas\n",
    "\n",
    "1. **Escolha do problema:** Análise das solicitações de refúgio no Brasil para tomada de decisão\n",
    "2. **Coleta de dados:** Repositório de dados públicos disponibilizados pelo Governo\n",
    "3. **Processamento:** Preparação dos dados sobre pedidos de refúgio com Python\n",
    "4. **Exploração dos dados:** Limpeza dos dados e construção de novos parâmetros utilizando bases auxiliares com Python\n",
    "5. **Visualização dos resultados:** Elaboração de um painel no Power BI\n",
    "6. **Análise crítica:** Análise geral dos dados para responder as hipóteses e questões do projeto"
   ]
  },
  {
   "cell_type": "markdown",
   "id": "ef7f875a",
   "metadata": {},
   "source": [
    "### Import das bibliotecas"
   ]
  },
  {
   "cell_type": "code",
   "execution_count": 1,
   "id": "6bf90bb2",
   "metadata": {},
   "outputs": [],
   "source": [
    "import pandas as pd\n",
    "import numpy as np\n",
    "import matplotlib.pyplot as plt\n",
    "import unidecode"
   ]
  },
  {
   "cell_type": "code",
   "execution_count": 2,
   "id": "9639b4fa",
   "metadata": {},
   "outputs": [
    {
     "name": "stdout",
     "output_type": "stream",
     "text": [
      "Requirement already satisfied: pyxlsb in c:\\users\\roger\\anaconda3\\lib\\site-packages (1.0.9)\n",
      "Note: you may need to restart the kernel to use updated packages.\n"
     ]
    }
   ],
   "source": [
    "pip install pyxlsb"
   ]
  },
  {
   "cell_type": "markdown",
   "id": "5a2d0bf1",
   "metadata": {},
   "source": [
    "### Abertura dos dados"
   ]
  },
  {
   "cell_type": "code",
   "execution_count": 3,
   "id": "045ad341",
   "metadata": {},
   "outputs": [],
   "source": [
    "path = 'data/' #pasta onde se encontram os arquivos com os dados"
   ]
  },
  {
   "cell_type": "markdown",
   "id": "15896f03",
   "metadata": {},
   "source": [
    "**Decisões sobre pedidos de reconhecimento da condição de refugiado**\n",
    "\n",
    "Esta [base de dados](https://www.gov.br/mj/pt-br/assuntos/seus-direitos/refugio/refugio-em-numeros-e-publicacoes/capa) pode ser encontrada no portal do Ministério da Justiça e Segurança Pública, ela será a base principal do projeto. \n",
    "\n",
    "O formato do arquivo é `.xlsxb` e foi necessário instalar uma engine específica para ler e tratar as abas do documento com a biblioteca Pandas. A análise do projeto está limitada ao período de decisões que ocorreram de jan/2015 até jun/2021.\n",
    "\n",
    "_Colunas:_\n",
    "- `DATA SOLICITAÇÃO`: Ano de solicitação de refúgio\n",
    "- `ANO DE NASCIMENTO`: Ano de nascimento do solicitante de refúgio\n",
    "- `PAÍS DE ORIGEM`: País de origem do solicitante de refúgio\n",
    "- `CIDADE SOLICITAÇÃO`: Cidade onde a solicitação foi feita\n",
    "- `DATA DA DECISÃO`: Data que a solicitação foi julgada\n",
    "- `STATUS`: Status da decisão do CONARE"
   ]
  },
  {
   "cell_type": "code",
   "execution_count": 4,
   "id": "ac928d58",
   "metadata": {},
   "outputs": [],
   "source": [
    "sheets = ['2021', '2020', '2019', '2018', '2017', '2016', '2015']\n",
    "colunas = ['STATUS', 'PAÍS DE ORIGEM', 'DATA SOLICITAÇÃO', 'ANO DE NASCIMENTO', 'CIDADE SOLICITAÇÃO', 'DATA DA  DECISÃO']"
   ]
  },
  {
   "cell_type": "code",
   "execution_count": 5,
   "id": "e861176f",
   "metadata": {},
   "outputs": [],
   "source": [
    "df = pd.read_excel(path + \"decisoes-pedidos-refugio.xlsb\", engine='pyxlsb',\n",
    "                  sheet_name= sheets, usecols= colunas)"
   ]
  },
  {
   "cell_type": "markdown",
   "id": "25f62c9d",
   "metadata": {},
   "source": [
    "O DataFrame criado ainda está com as bases de decisão separada por ano e será necessário concatená-las."
   ]
  },
  {
   "cell_type": "code",
   "execution_count": 6,
   "id": "1dd1f39d",
   "metadata": {},
   "outputs": [
    {
     "data": {
      "text/html": [
       "<div>\n",
       "<style scoped>\n",
       "    .dataframe tbody tr th:only-of-type {\n",
       "        vertical-align: middle;\n",
       "    }\n",
       "\n",
       "    .dataframe tbody tr th {\n",
       "        vertical-align: top;\n",
       "    }\n",
       "\n",
       "    .dataframe thead th {\n",
       "        text-align: right;\n",
       "    }\n",
       "</style>\n",
       "<table border=\"1\" class=\"dataframe\">\n",
       "  <thead>\n",
       "    <tr style=\"text-align: right;\">\n",
       "      <th></th>\n",
       "      <th>STATUS</th>\n",
       "      <th>DATA SOLICITAÇÃO</th>\n",
       "      <th>PAÍS DE ORIGEM</th>\n",
       "      <th>ANO DE NASCIMENTO</th>\n",
       "      <th>CIDADE SOLICITAÇÃO</th>\n",
       "      <th>DATA DA  DECISÃO</th>\n",
       "    </tr>\n",
       "  </thead>\n",
       "  <tbody>\n",
       "    <tr>\n",
       "      <th>0</th>\n",
       "      <td>ELEGIBILIDADE / DEFERIMENTO</td>\n",
       "      <td>2014</td>\n",
       "      <td>AFEGANISTÃO</td>\n",
       "      <td>1992</td>\n",
       "      <td>BRASÍLIA</td>\n",
       "      <td>42118.0</td>\n",
       "    </tr>\n",
       "    <tr>\n",
       "      <th>1</th>\n",
       "      <td>ELEGIBILIDADE / DEFERIMENTO</td>\n",
       "      <td>2014</td>\n",
       "      <td>AFEGANISTÃO</td>\n",
       "      <td>1986</td>\n",
       "      <td>RIO DE JANEIRO</td>\n",
       "      <td>42118.0</td>\n",
       "    </tr>\n",
       "    <tr>\n",
       "      <th>2</th>\n",
       "      <td>ELEGIBILIDADE / DEFERIMENTO</td>\n",
       "      <td>2014</td>\n",
       "      <td>AFEGANISTÃO</td>\n",
       "      <td>1989</td>\n",
       "      <td>RIO DE JANEIRO</td>\n",
       "      <td>42118.0</td>\n",
       "    </tr>\n",
       "  </tbody>\n",
       "</table>\n",
       "</div>"
      ],
      "text/plain": [
       "                        STATUS  DATA SOLICITAÇÃO PAÍS DE ORIGEM  \\\n",
       "0  ELEGIBILIDADE / DEFERIMENTO              2014    AFEGANISTÃO   \n",
       "1  ELEGIBILIDADE / DEFERIMENTO              2014    AFEGANISTÃO   \n",
       "2  ELEGIBILIDADE / DEFERIMENTO              2014    AFEGANISTÃO   \n",
       "\n",
       "  ANO DE NASCIMENTO CIDADE SOLICITAÇÃO  DATA DA  DECISÃO  \n",
       "0              1992           BRASÍLIA           42118.0  \n",
       "1              1986     RIO DE JANEIRO           42118.0  \n",
       "2              1989     RIO DE JANEIRO           42118.0  "
      ]
     },
     "execution_count": 6,
     "metadata": {},
     "output_type": "execute_result"
    }
   ],
   "source": [
    "df['2015'].head(3)"
   ]
  },
  {
   "cell_type": "code",
   "execution_count": 7,
   "id": "9540270e",
   "metadata": {},
   "outputs": [
    {
     "data": {
      "text/html": [
       "<div>\n",
       "<style scoped>\n",
       "    .dataframe tbody tr th:only-of-type {\n",
       "        vertical-align: middle;\n",
       "    }\n",
       "\n",
       "    .dataframe tbody tr th {\n",
       "        vertical-align: top;\n",
       "    }\n",
       "\n",
       "    .dataframe thead th {\n",
       "        text-align: right;\n",
       "    }\n",
       "</style>\n",
       "<table border=\"1\" class=\"dataframe\">\n",
       "  <thead>\n",
       "    <tr style=\"text-align: right;\">\n",
       "      <th></th>\n",
       "      <th>STATUS</th>\n",
       "      <th>DATA SOLICITAÇÃO</th>\n",
       "      <th>PAÍS DE ORIGEM</th>\n",
       "      <th>ANO DE NASCIMENTO</th>\n",
       "      <th>CIDADE SOLICITAÇÃO</th>\n",
       "      <th>DATA DA  DECISÃO</th>\n",
       "    </tr>\n",
       "  </thead>\n",
       "  <tbody>\n",
       "    <tr>\n",
       "      <th>0</th>\n",
       "      <td>ELEGIBILIDADE - DEFERIDO</td>\n",
       "      <td>2020</td>\n",
       "      <td>SÍRIA</td>\n",
       "      <td>2004</td>\n",
       "      <td>RIO DE JANEIRO</td>\n",
       "      <td>44232</td>\n",
       "    </tr>\n",
       "    <tr>\n",
       "      <th>1</th>\n",
       "      <td>ELEGIBILIDADE - DEFERIDO</td>\n",
       "      <td>2020</td>\n",
       "      <td>SÍRIA</td>\n",
       "      <td>1991</td>\n",
       "      <td>PORTO ALEGRE</td>\n",
       "      <td>44232</td>\n",
       "    </tr>\n",
       "    <tr>\n",
       "      <th>2</th>\n",
       "      <td>ELEGIBILIDADE - DEFERIDO</td>\n",
       "      <td>2020</td>\n",
       "      <td>SÍRIA</td>\n",
       "      <td>1999</td>\n",
       "      <td>SÃO PAULO</td>\n",
       "      <td>44232</td>\n",
       "    </tr>\n",
       "  </tbody>\n",
       "</table>\n",
       "</div>"
      ],
      "text/plain": [
       "                     STATUS  DATA SOLICITAÇÃO PAÍS DE ORIGEM  \\\n",
       "0  ELEGIBILIDADE - DEFERIDO              2020          SÍRIA   \n",
       "1  ELEGIBILIDADE - DEFERIDO              2020          SÍRIA   \n",
       "2  ELEGIBILIDADE - DEFERIDO              2020          SÍRIA   \n",
       "\n",
       "   ANO DE NASCIMENTO CIDADE SOLICITAÇÃO  DATA DA  DECISÃO  \n",
       "0               2004     RIO DE JANEIRO             44232  \n",
       "1               1991      PORTO ALEGRE              44232  \n",
       "2               1999          SÃO PAULO             44232  "
      ]
     },
     "execution_count": 7,
     "metadata": {},
     "output_type": "execute_result"
    }
   ],
   "source": [
    "df['2021'].head(3)"
   ]
  },
  {
   "cell_type": "code",
   "execution_count": 8,
   "id": "a17a9c95",
   "metadata": {},
   "outputs": [],
   "source": [
    "solicitacoes = pd.concat(df, ignore_index=True)"
   ]
  },
  {
   "cell_type": "code",
   "execution_count": 9,
   "id": "44a4b588",
   "metadata": {
    "scrolled": false
   },
   "outputs": [],
   "source": [
    "solicitacoes.rename(columns= {'STATUS':'Decisão CONARE', 'DATA SOLICITAÇÃO':'Data de solicitação', \n",
    "                              'PAÍS DE ORIGEM':'País de origem', 'ANO DE NASCIMENTO':'Ano de Nascimento', \n",
    "                              'CIDADE SOLICITAÇÃO':'Cidade de solicitação', 'DATA DA  DECISÃO':'Data da decisão'}, \n",
    "                    inplace= True)"
   ]
  },
  {
   "cell_type": "code",
   "execution_count": 10,
   "id": "45b7a50f",
   "metadata": {},
   "outputs": [
    {
     "data": {
      "text/html": [
       "<div>\n",
       "<style scoped>\n",
       "    .dataframe tbody tr th:only-of-type {\n",
       "        vertical-align: middle;\n",
       "    }\n",
       "\n",
       "    .dataframe tbody tr th {\n",
       "        vertical-align: top;\n",
       "    }\n",
       "\n",
       "    .dataframe thead th {\n",
       "        text-align: right;\n",
       "    }\n",
       "</style>\n",
       "<table border=\"1\" class=\"dataframe\">\n",
       "  <thead>\n",
       "    <tr style=\"text-align: right;\">\n",
       "      <th></th>\n",
       "      <th>Decisão CONARE</th>\n",
       "      <th>Data de solicitação</th>\n",
       "      <th>País de origem</th>\n",
       "      <th>Ano de Nascimento</th>\n",
       "      <th>Cidade de solicitação</th>\n",
       "      <th>Data da decisão</th>\n",
       "    </tr>\n",
       "  </thead>\n",
       "  <tbody>\n",
       "    <tr>\n",
       "      <th>0</th>\n",
       "      <td>ELEGIBILIDADE - DEFERIDO</td>\n",
       "      <td>2020</td>\n",
       "      <td>SÍRIA</td>\n",
       "      <td>2004</td>\n",
       "      <td>RIO DE JANEIRO</td>\n",
       "      <td>44232.0</td>\n",
       "    </tr>\n",
       "    <tr>\n",
       "      <th>1</th>\n",
       "      <td>ELEGIBILIDADE - DEFERIDO</td>\n",
       "      <td>2020</td>\n",
       "      <td>SÍRIA</td>\n",
       "      <td>1991</td>\n",
       "      <td>PORTO ALEGRE</td>\n",
       "      <td>44232.0</td>\n",
       "    </tr>\n",
       "    <tr>\n",
       "      <th>2</th>\n",
       "      <td>ELEGIBILIDADE - DEFERIDO</td>\n",
       "      <td>2020</td>\n",
       "      <td>SÍRIA</td>\n",
       "      <td>1999</td>\n",
       "      <td>SÃO PAULO</td>\n",
       "      <td>44232.0</td>\n",
       "    </tr>\n",
       "    <tr>\n",
       "      <th>3</th>\n",
       "      <td>ELEGIBILIDADE - DEFERIDO</td>\n",
       "      <td>2020</td>\n",
       "      <td>SÍRIA</td>\n",
       "      <td>2003</td>\n",
       "      <td>RIO DE JANEIRO</td>\n",
       "      <td>44232.0</td>\n",
       "    </tr>\n",
       "    <tr>\n",
       "      <th>4</th>\n",
       "      <td>ELEGIBILIDADE - DEFERIDO</td>\n",
       "      <td>2020</td>\n",
       "      <td>SÍRIA</td>\n",
       "      <td>1993</td>\n",
       "      <td>SÃO PAULO</td>\n",
       "      <td>44232.0</td>\n",
       "    </tr>\n",
       "  </tbody>\n",
       "</table>\n",
       "</div>"
      ],
      "text/plain": [
       "             Decisão CONARE  Data de solicitação País de origem  \\\n",
       "0  ELEGIBILIDADE - DEFERIDO                 2020          SÍRIA   \n",
       "1  ELEGIBILIDADE - DEFERIDO                 2020          SÍRIA   \n",
       "2  ELEGIBILIDADE - DEFERIDO                 2020          SÍRIA   \n",
       "3  ELEGIBILIDADE - DEFERIDO                 2020          SÍRIA   \n",
       "4  ELEGIBILIDADE - DEFERIDO                 2020          SÍRIA   \n",
       "\n",
       "  Ano de Nascimento Cidade de solicitação  Data da decisão  \n",
       "0              2004        RIO DE JANEIRO          44232.0  \n",
       "1              1991         PORTO ALEGRE           44232.0  \n",
       "2              1999             SÃO PAULO          44232.0  \n",
       "3              2003        RIO DE JANEIRO          44232.0  \n",
       "4              1993             SÃO PAULO          44232.0  "
      ]
     },
     "execution_count": 10,
     "metadata": {},
     "output_type": "execute_result"
    }
   ],
   "source": [
    "solicitacoes.head()"
   ]
  },
  {
   "cell_type": "markdown",
   "id": "374548de",
   "metadata": {},
   "source": [
    "**Lista de países e continentes**\n",
    "\n",
    "Arquivo excel que disponibiliza a relação de continentes e países, esta base será útil para agrupar por continente a quantidade de solicitações."
   ]
  },
  {
   "cell_type": "code",
   "execution_count": 11,
   "id": "7e2018b6",
   "metadata": {},
   "outputs": [],
   "source": [
    "paises = pd.read_excel(path + 'lista-paises-continentes.xlsx', usecols= ['País', 'Continente'])"
   ]
  },
  {
   "cell_type": "code",
   "execution_count": 12,
   "id": "9e0e9a2e",
   "metadata": {},
   "outputs": [],
   "source": [
    "paises.rename(columns= {'Continente':'Continente de origem', 'País':'País de origem'}, inplace= True)"
   ]
  },
  {
   "cell_type": "code",
   "execution_count": 13,
   "id": "622d48ad",
   "metadata": {},
   "outputs": [
    {
     "data": {
      "text/html": [
       "<div>\n",
       "<style scoped>\n",
       "    .dataframe tbody tr th:only-of-type {\n",
       "        vertical-align: middle;\n",
       "    }\n",
       "\n",
       "    .dataframe tbody tr th {\n",
       "        vertical-align: top;\n",
       "    }\n",
       "\n",
       "    .dataframe thead th {\n",
       "        text-align: right;\n",
       "    }\n",
       "</style>\n",
       "<table border=\"1\" class=\"dataframe\">\n",
       "  <thead>\n",
       "    <tr style=\"text-align: right;\">\n",
       "      <th></th>\n",
       "      <th>País de origem</th>\n",
       "      <th>Continente de origem</th>\n",
       "    </tr>\n",
       "  </thead>\n",
       "  <tbody>\n",
       "    <tr>\n",
       "      <th>0</th>\n",
       "      <td>AFEGANISTÃO</td>\n",
       "      <td>ÁSIA</td>\n",
       "    </tr>\n",
       "    <tr>\n",
       "      <th>1</th>\n",
       "      <td>ÁFRICA DO SUL</td>\n",
       "      <td>ÁFRICA</td>\n",
       "    </tr>\n",
       "    <tr>\n",
       "      <th>2</th>\n",
       "      <td>ALBÂNIA</td>\n",
       "      <td>EUROPA</td>\n",
       "    </tr>\n",
       "  </tbody>\n",
       "</table>\n",
       "</div>"
      ],
      "text/plain": [
       "  País de origem Continente de origem\n",
       "0    AFEGANISTÃO                 ÁSIA\n",
       "1  ÁFRICA DO SUL               ÁFRICA\n",
       "2        ALBÂNIA               EUROPA"
      ]
     },
     "execution_count": 13,
     "metadata": {},
     "output_type": "execute_result"
    }
   ],
   "source": [
    "paises.head(3)"
   ]
  },
  {
   "cell_type": "markdown",
   "id": "3e4470bb",
   "metadata": {},
   "source": [
    "**Lista de municípios brasileiros**\n",
    "\n",
    "Arquivo excel com a [listagem de municípios brasileiros](http://blog.mds.gov.br/redesuas/lista-de-municipios-brasileiros/) disponibilizado pelo Ministério da Cidadania."
   ]
  },
  {
   "cell_type": "code",
   "execution_count": 14,
   "id": "ccf49bee",
   "metadata": {},
   "outputs": [],
   "source": [
    "cidadesBR = pd.read_excel(path + \"Lista-de-Municípios-com-IBGE-Brasil.xlsx\", \n",
    "                          sheet_name= 'Lista de Municípios IBGE',\n",
    "                          usecols= ['UF', 'Região', 'Município', 'Capital', 'População 2010'])"
   ]
  },
  {
   "cell_type": "code",
   "execution_count": 15,
   "id": "ee8e52b6",
   "metadata": {},
   "outputs": [],
   "source": [
    "cidadesBR.sort_values(by= ['Município', 'População 2010'], ascending=False, inplace=True)"
   ]
  },
  {
   "cell_type": "code",
   "execution_count": 16,
   "id": "90109eb0",
   "metadata": {},
   "outputs": [],
   "source": [
    "cidadesBR['Região'].replace(to_replace=r'^Região', value= '', regex=True, inplace=True)"
   ]
  },
  {
   "cell_type": "code",
   "execution_count": 17,
   "id": "2596064c",
   "metadata": {},
   "outputs": [],
   "source": [
    "cidadesBR.rename(columns= {'Região':'Região de solicitação', 'UF':'Estado de solicitação'}, inplace= True)"
   ]
  },
  {
   "cell_type": "code",
   "execution_count": 18,
   "id": "1ac67e5d",
   "metadata": {},
   "outputs": [
    {
     "data": {
      "text/html": [
       "<div>\n",
       "<style scoped>\n",
       "    .dataframe tbody tr th:only-of-type {\n",
       "        vertical-align: middle;\n",
       "    }\n",
       "\n",
       "    .dataframe tbody tr th {\n",
       "        vertical-align: top;\n",
       "    }\n",
       "\n",
       "    .dataframe thead th {\n",
       "        text-align: right;\n",
       "    }\n",
       "</style>\n",
       "<table border=\"1\" class=\"dataframe\">\n",
       "  <thead>\n",
       "    <tr style=\"text-align: right;\">\n",
       "      <th></th>\n",
       "      <th>Estado de solicitação</th>\n",
       "      <th>Município</th>\n",
       "      <th>Região de solicitação</th>\n",
       "      <th>População 2010</th>\n",
       "      <th>Capital</th>\n",
       "    </tr>\n",
       "  </thead>\n",
       "  <tbody>\n",
       "    <tr>\n",
       "      <th>3648</th>\n",
       "      <td>SP</td>\n",
       "      <td>Óleo</td>\n",
       "      <td>Sudeste</td>\n",
       "      <td>2673.0</td>\n",
       "      <td>NaN</td>\n",
       "    </tr>\n",
       "    <tr>\n",
       "      <th>232</th>\n",
       "      <td>PA</td>\n",
       "      <td>Óbidos</td>\n",
       "      <td>Norte</td>\n",
       "      <td>49333.0</td>\n",
       "      <td>NaN</td>\n",
       "    </tr>\n",
       "    <tr>\n",
       "      <th>1832</th>\n",
       "      <td>BA</td>\n",
       "      <td>Érico Cardoso</td>\n",
       "      <td>Nordeste</td>\n",
       "      <td>10859.0</td>\n",
       "      <td>NaN</td>\n",
       "    </tr>\n",
       "    <tr>\n",
       "      <th>3925</th>\n",
       "      <td>PR</td>\n",
       "      <td>Ângulo</td>\n",
       "      <td>Sul</td>\n",
       "      <td>2859.0</td>\n",
       "      <td>NaN</td>\n",
       "    </tr>\n",
       "    <tr>\n",
       "      <th>4634</th>\n",
       "      <td>RS</td>\n",
       "      <td>Áurea</td>\n",
       "      <td>Sul</td>\n",
       "      <td>3665.0</td>\n",
       "      <td>NaN</td>\n",
       "    </tr>\n",
       "    <tr>\n",
       "      <th>...</th>\n",
       "      <td>...</td>\n",
       "      <td>...</td>\n",
       "      <td>...</td>\n",
       "      <td>...</td>\n",
       "      <td>...</td>\n",
       "    </tr>\n",
       "    <tr>\n",
       "      <th>2245</th>\n",
       "      <td>MG</td>\n",
       "      <td>Abaeté</td>\n",
       "      <td>Sudeste</td>\n",
       "      <td>22690.0</td>\n",
       "      <td>NaN</td>\n",
       "    </tr>\n",
       "    <tr>\n",
       "      <th>151</th>\n",
       "      <td>PA</td>\n",
       "      <td>Abaetetuba</td>\n",
       "      <td>Norte</td>\n",
       "      <td>141100.0</td>\n",
       "      <td>NaN</td>\n",
       "    </tr>\n",
       "    <tr>\n",
       "      <th>5324</th>\n",
       "      <td>GO</td>\n",
       "      <td>Abadiânia</td>\n",
       "      <td>Centro-Oeste</td>\n",
       "      <td>15757.0</td>\n",
       "      <td>NaN</td>\n",
       "    </tr>\n",
       "    <tr>\n",
       "      <th>5323</th>\n",
       "      <td>GO</td>\n",
       "      <td>Abadia de Goiás</td>\n",
       "      <td>Centro-Oeste</td>\n",
       "      <td>6876.0</td>\n",
       "      <td>NaN</td>\n",
       "    </tr>\n",
       "    <tr>\n",
       "      <th>2244</th>\n",
       "      <td>MG</td>\n",
       "      <td>Abadia Dos Dourados</td>\n",
       "      <td>Sudeste</td>\n",
       "      <td>6704.0</td>\n",
       "      <td>NaN</td>\n",
       "    </tr>\n",
       "  </tbody>\n",
       "</table>\n",
       "<p>5570 rows × 5 columns</p>\n",
       "</div>"
      ],
      "text/plain": [
       "     Estado de solicitação            Município Região de solicitação  \\\n",
       "3648                    SP                 Óleo               Sudeste   \n",
       "232                     PA               Óbidos                 Norte   \n",
       "1832                    BA        Érico Cardoso              Nordeste   \n",
       "3925                    PR               Ângulo                   Sul   \n",
       "4634                    RS                Áurea                   Sul   \n",
       "...                    ...                  ...                   ...   \n",
       "2245                    MG               Abaeté               Sudeste   \n",
       "151                     PA           Abaetetuba                 Norte   \n",
       "5324                    GO            Abadiânia          Centro-Oeste   \n",
       "5323                    GO      Abadia de Goiás          Centro-Oeste   \n",
       "2244                    MG  Abadia Dos Dourados               Sudeste   \n",
       "\n",
       "      População 2010 Capital  \n",
       "3648          2673.0     NaN  \n",
       "232          49333.0     NaN  \n",
       "1832         10859.0     NaN  \n",
       "3925          2859.0     NaN  \n",
       "4634          3665.0     NaN  \n",
       "...              ...     ...  \n",
       "2245         22690.0     NaN  \n",
       "151         141100.0     NaN  \n",
       "5324         15757.0     NaN  \n",
       "5323          6876.0     NaN  \n",
       "2244          6704.0     NaN  \n",
       "\n",
       "[5570 rows x 5 columns]"
      ]
     },
     "execution_count": 18,
     "metadata": {},
     "output_type": "execute_result"
    }
   ],
   "source": [
    "cidadesBR"
   ]
  },
  {
   "cell_type": "markdown",
   "id": "9d1a205b",
   "metadata": {},
   "source": [
    "### Preparação dos dados"
   ]
  },
  {
   "cell_type": "markdown",
   "id": "150b3b47",
   "metadata": {},
   "source": [
    "- **solicitacoes**\n",
    "\n",
    "Nesta base de dados será necessário transformar a coluna `DATA DA  DECISÃO` (repare que existem um espaço adicional) para o formato de data e limpar as linhas que possuem informações vazias. Além disso, para não existir inconsistências na hora de unir às listas de apoio, aplicaremos a limpeza de espaços com `strip()`, texto em maiúscula com `upper()` e retirar acentos com a função personalizada `retirar_acento`."
   ]
  },
  {
   "cell_type": "code",
   "execution_count": 19,
   "id": "1e268851",
   "metadata": {},
   "outputs": [],
   "source": [
    "# exclusão de informações vazias\n",
    "solicitacoes.dropna(inplace=True)"
   ]
  },
  {
   "cell_type": "code",
   "execution_count": 20,
   "id": "4602bac8",
   "metadata": {},
   "outputs": [],
   "source": [
    "# correção da data\n",
    "solicitacoes['Data da decisão'] = pd.to_datetime(solicitacoes['Data da decisão'], unit='D', origin='1899-12-30')"
   ]
  },
  {
   "cell_type": "code",
   "execution_count": 21,
   "id": "9f739bab",
   "metadata": {},
   "outputs": [],
   "source": [
    "# limpeza de espaços excessivos\n",
    "solicitacoes['País de origem'] = solicitacoes['País de origem'].str.strip()\n",
    "solicitacoes['Cidade de solicitação'] = solicitacoes['Cidade de solicitação'].str.strip()\n",
    "solicitacoes['Decisão CONARE'] = solicitacoes['Decisão CONARE'].str.strip()"
   ]
  },
  {
   "cell_type": "code",
   "execution_count": 22,
   "id": "9bdb471c",
   "metadata": {},
   "outputs": [],
   "source": [
    "# texto em maiúscula\n",
    "solicitacoes['País de origem'] = solicitacoes['País de origem'].str.upper()\n",
    "solicitacoes['Cidade de solicitação'] = solicitacoes['Cidade de solicitação'].str.upper()\n",
    "solicitacoes['Decisão CONARE'] = solicitacoes['Decisão CONARE'].str.upper()"
   ]
  },
  {
   "cell_type": "code",
   "execution_count": 23,
   "id": "856138e3",
   "metadata": {},
   "outputs": [],
   "source": [
    "def retirar_acento(expression):\n",
    "    try:\n",
    "        return unidecode.unidecode(expression)\n",
    "    except:\n",
    "        return '0 VAZIO'"
   ]
  },
  {
   "cell_type": "code",
   "execution_count": 24,
   "id": "561411c0",
   "metadata": {},
   "outputs": [],
   "source": [
    "# retirar acentos\n",
    "solicitacoes['País de origem'] = solicitacoes['País de origem'].apply(retirar_acento)\n",
    "solicitacoes['Cidade de solicitação'] = solicitacoes['Cidade de solicitação'].apply(retirar_acento)"
   ]
  },
  {
   "cell_type": "markdown",
   "id": "255def71",
   "metadata": {},
   "source": [
    "Mesmo com o tratamento inicial é possivel observar que existem registros com mais de uma forma de escrita para representar a mesma coisa, esse é o caso 'CABO VERDE' e 'CABO-VERDE', por exemplo. Também é possível encontrar cidades nomeadas como \"A DEFINIR\" ou 'NAO INFORMADO', esses casos excluiremos da base na hora juntar as bases, pois não será possível mesclá-los e representam um percertual pequeno dos registros."
   ]
  },
  {
   "cell_type": "code",
   "execution_count": 25,
   "id": "aaaeb402",
   "metadata": {},
   "outputs": [
    {
     "data": {
      "text/plain": [
       "array(['AFEGANISTAO', 'AFRICA', 'AFRICA DO SUL', 'ALBANIA', 'ALEMANHA',\n",
       "       'ANGOLA', 'APATRIDA', 'ARABIA SAUDITA', 'ARGELIA', 'ARGENTINA',\n",
       "       'ARMENIA', 'BANGLADESH', 'BARBADOS', 'BENIN', 'BOLIVIA',\n",
       "       'BURKINA FASO', 'BURUNDI', 'BUTAO', 'CABO VERDE', 'CABO-VERDE',\n",
       "       'CAMAROES', 'CANADA', 'CAZAQUISTAO', 'CHILE', 'CHINA', 'COLOMBIA',\n",
       "       'CONGO', 'COREIA DO SUL', 'COSTA DO MARFIM', 'CUBA', 'DINAMARCA',\n",
       "       'EGITO', 'EL SALVADOR', 'EMIRADOS ARABES', 'EQUADOR', 'ESPANHA',\n",
       "       'ESTADOS UNIDOS', 'ESTADOS UNIDOS DA AMERICA', 'ETIOPIA',\n",
       "       'FILIPINAS', 'FRANCA', 'GAMBIA', 'GANA', 'GUATEMALA', 'GUIANA',\n",
       "       'GUINE', 'GUINE BISSAU', 'GUINE-BISSAU', 'GUINE-CONACRI', 'HAITI',\n",
       "       'HONDURAS', 'IEMEN', 'IEMEN ', 'INDIA', 'IRA', 'IRAQUE', 'ISRAEL',\n",
       "       'ITALIA', 'IUGOSLAVIA', 'JAMAICA', 'JORDANIA',\n",
       "       'JORDANIA/PALESTINA', 'KOSOVO', 'KUWAIT', 'LETONIA', 'LIBANO',\n",
       "       'LIBERIA', 'LIBIA', 'LITUANIA', 'MALASIA', 'MALI', 'MARROCOS',\n",
       "       'MAURITANIA', 'MEXICO', 'MIAMAR', 'MOCAMBIQUE', 'MODOU NIANG',\n",
       "       'NAMIBIA', 'NAO INFORMADO', 'NEPAL', 'NICARAGUA', 'NIGER',\n",
       "       'NIGERIA', 'PALESTINA', 'PALESTINA/SIRIA', 'PANAMA', 'PAQUISTAO',\n",
       "       'PARAGUAI', 'PERU', 'POLONIA', 'PORTUGAL', 'QUENIA', 'RDC',\n",
       "       'REINO UNIDO', 'REP. CENTRO AFRICANA', 'REP. DA GUINE',\n",
       "       'REP. DA GUINE-BISSAU', 'REP. DEM DO CONGO', 'REP. DEM. DO CONGO',\n",
       "       'REP. DO CONGO', 'REP. DOMINICANA', 'REP.DEM DO CONGO',\n",
       "       'REP.DO CONGO', 'REP.DOMINICANA', 'REPUBLICA DEMOCRATICA DO CONGO',\n",
       "       'REPUBLICA DOMINICANA', 'REPUBLICA TCHECA', 'ROMENIA', 'RUSSIA',\n",
       "       'SAO TOME E PRINCIPE', 'SENEGAL', 'SERRA LEOA', 'SERVIA', 'SIRIA',\n",
       "       'SOMALIA', 'SRI LANKA', 'SRI-LANKA', 'SUDAO', 'SUECIA', 'SURINAME',\n",
       "       'TAILANDIA', 'TANZANIA', 'TOGO', 'TUNISIA', 'TURQUIA', 'UCRANIA',\n",
       "       'UGANDA', 'UNIAO SOVIETICA', 'URUGUAI', 'VENEZUELA', 'VIETNA',\n",
       "       'ZAMBIA', 'ZIMBABUE'], dtype=object)"
      ]
     },
     "execution_count": 25,
     "metadata": {},
     "output_type": "execute_result"
    }
   ],
   "source": [
    "solicitacoes['País de origem'].sort_values().unique()"
   ]
  },
  {
   "cell_type": "code",
   "execution_count": 26,
   "id": "05ed0c43",
   "metadata": {},
   "outputs": [
    {
     "data": {
      "text/plain": [
       "array(['\"A DEFINIR\"', '0X2A', 'ALTAMIRA', 'ANANINDEUA', 'ANAPOLIS',\n",
       "       'ANGRA DOS REIS', 'ARACAJU', 'ARACATUBA', 'ARAGUAINA',\n",
       "       'ARARAQUARA', 'BAGE', 'BARRA DO GARCA', 'BARRACAO', 'BAURU',\n",
       "       'BELEM', 'BELO HORIZONTE', 'BOA VISTA', 'BRAS', 'BRASILEIA',\n",
       "       'BRASILIA', 'CABEDELO', 'CACERES', 'CAMPINA GRANDE', 'CAMPINAS',\n",
       "       'CAMPO DOS GOYTACAZES', 'CAMPO GRANDE', 'CARUARU', 'CASCAVEL',\n",
       "       'CAXIAS DO SUL', 'CHAPECO', 'CORUMBA', 'CRICIUMA', 'CRUZEIRO',\n",
       "       'CRUZEIRO DO SUL', 'CUIABA', 'CURITIBA', 'DIONISIO CERQUEIRA',\n",
       "       'DIVINOPOLIS', 'DIVIN[OPOLIS', 'DOIS VIZINHOS', 'DOURADOS',\n",
       "       'EPITACIOLANDIA', 'ERECHIM', 'FLORIANOPOLIS', 'FORTALEZA',\n",
       "       'FOZ DO IGUACU', 'GOIANIA', 'GOVERNADOR VALADARES', 'GUAIRA',\n",
       "       'GUAJARA', 'GUARAPUAVA', 'GUARUJA', 'GUARULHOS', 'ILHEUS',\n",
       "       'IMPERATRIZ', 'ITAI', 'ITAJAI', 'ITU', 'JAGUARAO', 'JALES',\n",
       "       'JATAI', 'JI-PARANA', 'JOAO PESSOA', 'JOINVILLE', 'JUAZEIRO',\n",
       "       'JUIZ DE FORA', 'LAGES', 'LONDRINA', 'MACAE', 'MACAPA', 'MACEIO',\n",
       "       'MANAUS', 'MARABA', 'MARINGA', 'MINEIROS', 'NATAL', 'NAVIRAI',\n",
       "       'NITEROI', 'NOVA IGUACU', 'OIAPOQUE', 'PACARAIMA', 'PALMAS',\n",
       "       'PARANAGUA', 'PARNAIBA', 'PASSO FUNDO', 'PELOTAS', 'PIRACICABA',\n",
       "       'PIRENOPOLIS', 'PONTA GROSSA', 'PONTA PORA', 'PORTO ALEGRE',\n",
       "       'PORTO GRANDE', 'PORTO SEGURO', 'PORTO VELHO',\n",
       "       'PRESIDENTE PRUDENTE', 'RECIFE', 'REDENCAO', 'RIBEIRAO PRETO',\n",
       "       'RIO BRANCO', 'RIO DE JANEIRO', 'RIO GRANDE', 'RONDONOPOLIS',\n",
       "       'SALGUEIRO', 'SALVADOR', 'SANTA CRUZ DO SUL', 'SANTA MARIA',\n",
       "       'SANTANA DO LIVRAMENTO', 'SANTAREM', 'SANTO ANGELO', 'SANTOS',\n",
       "       'SAO JOSE DO RIO PRETO', 'SAO JOSE DOS CAMPOS', 'SAO LUIS',\n",
       "       'SAO MATEUS', 'SAO PAULO', 'SAO SEBASTIAO', 'SINOP', 'SOROCABA',\n",
       "       'TABATINGA', 'TERESINA', 'TRES LAGOAS', 'UBERABA', 'UBERLANDIA',\n",
       "       'URUGUAIANA', 'VARGINHA', 'VILHENA', 'VITORIA',\n",
       "       'VITORIA DA CONQUISTA', 'VITORIA DO PALMAR', 'VOLTA REDONDA'],\n",
       "      dtype=object)"
      ]
     },
     "execution_count": 26,
     "metadata": {},
     "output_type": "execute_result"
    }
   ],
   "source": [
    "solicitacoes['Cidade de solicitação'].sort_values().unique()"
   ]
  },
  {
   "cell_type": "code",
   "execution_count": 27,
   "id": "a893c3d0",
   "metadata": {},
   "outputs": [],
   "source": [
    "def ajustar(local):\n",
    "    for chave, valor in padrao_nome.items():\n",
    "        if local in valor:\n",
    "            return chave\n",
    "        else:\n",
    "            local_mantido = local\n",
    "    return local_mantido"
   ]
  },
  {
   "cell_type": "code",
   "execution_count": 28,
   "id": "09c6c80c",
   "metadata": {},
   "outputs": [],
   "source": [
    "padrao_nome = {'AFRICA DO SUL': ['AFRICA'],\n",
    "               'CABO VERDE': ['CABO-VERDE'],\n",
    "               'CONGO-BRAZZAVILLE': ['REP.DO CONGO', 'CONGO'],\n",
    "               'ESTADOS UNIDOS': ['ESTADOS UNIDOS DA AMERICA'],\n",
    "               'GUINE': ['GUINE-CONACRI', 'REP. DA GUINE'],\n",
    "               'GUINE BISSAU': ['GUINE-BISSAU', 'REP. DA GUINE-BISSAU'],\n",
    "               'IEMEN': ['IEMEN '],\n",
    "               'JORDANIA': ['JORDANIA/PALESTINA'],\n",
    "               'REP. DEM DO CONGO': ['REPUBLICA DEMOCRATICA DO CONGO', 'REP.DEM DO CONGO', 'REP. DEM. DO CONGO', 'RDC'],\n",
    "               'REP. DOMINICANA': ['REPUBLICA DOMINICANA', 'REP.DOMINICANA'],\n",
    "               'REP. TCHECA': ['REPUBLICA TCHECA'],\n",
    "               'SIRIA': ['PALESTINA/SIRIA'],\n",
    "               'SRI-LANKA': ['SRI LANKA'],\n",
    "               'RUSSIA': ['UNIAO SOVIETICA']\n",
    "              }\n",
    "\n",
    "solicitacoes['País de origem'] = solicitacoes['País de origem'].apply(ajustar)"
   ]
  },
  {
   "cell_type": "code",
   "execution_count": 29,
   "id": "0b27f658",
   "metadata": {},
   "outputs": [],
   "source": [
    "padrao_nome = {'DIVINOPOLIS': ['DIVIN[OPOLIS'],\n",
    "               'CAMPOS DOS GOYTACAZES': ['CAMPO DOS GOYTACAZES'],\n",
    "               'SANTA VITORIA DO PALMAR': ['VITORIA DO PALMAR'],\n",
    "               'SAO PAULO': ['BRAS'],\n",
    "               'BARRA DO GARCAS': ['BARRA DO GARCA']\n",
    "              }\n",
    "\n",
    "solicitacoes['Cidade de solicitação'] = solicitacoes['Cidade de solicitação'].apply(ajustar)"
   ]
  },
  {
   "cell_type": "code",
   "execution_count": 30,
   "id": "f2dde13e",
   "metadata": {
    "scrolled": false
   },
   "outputs": [
    {
     "data": {
      "text/html": [
       "<div>\n",
       "<style scoped>\n",
       "    .dataframe tbody tr th:only-of-type {\n",
       "        vertical-align: middle;\n",
       "    }\n",
       "\n",
       "    .dataframe tbody tr th {\n",
       "        vertical-align: top;\n",
       "    }\n",
       "\n",
       "    .dataframe thead th {\n",
       "        text-align: right;\n",
       "    }\n",
       "</style>\n",
       "<table border=\"1\" class=\"dataframe\">\n",
       "  <thead>\n",
       "    <tr style=\"text-align: right;\">\n",
       "      <th></th>\n",
       "      <th>Decisão CONARE</th>\n",
       "      <th>Data de solicitação</th>\n",
       "      <th>País de origem</th>\n",
       "      <th>Ano de Nascimento</th>\n",
       "      <th>Cidade de solicitação</th>\n",
       "      <th>Data da decisão</th>\n",
       "    </tr>\n",
       "  </thead>\n",
       "  <tbody>\n",
       "    <tr>\n",
       "      <th>0</th>\n",
       "      <td>ELEGIBILIDADE - DEFERIDO</td>\n",
       "      <td>2020</td>\n",
       "      <td>SIRIA</td>\n",
       "      <td>2004</td>\n",
       "      <td>RIO DE JANEIRO</td>\n",
       "      <td>2021-02-05</td>\n",
       "    </tr>\n",
       "    <tr>\n",
       "      <th>1</th>\n",
       "      <td>ELEGIBILIDADE - DEFERIDO</td>\n",
       "      <td>2020</td>\n",
       "      <td>SIRIA</td>\n",
       "      <td>1991</td>\n",
       "      <td>PORTO ALEGRE</td>\n",
       "      <td>2021-02-05</td>\n",
       "    </tr>\n",
       "    <tr>\n",
       "      <th>2</th>\n",
       "      <td>ELEGIBILIDADE - DEFERIDO</td>\n",
       "      <td>2020</td>\n",
       "      <td>SIRIA</td>\n",
       "      <td>1999</td>\n",
       "      <td>SAO PAULO</td>\n",
       "      <td>2021-02-05</td>\n",
       "    </tr>\n",
       "  </tbody>\n",
       "</table>\n",
       "</div>"
      ],
      "text/plain": [
       "             Decisão CONARE  Data de solicitação País de origem  \\\n",
       "0  ELEGIBILIDADE - DEFERIDO                 2020          SIRIA   \n",
       "1  ELEGIBILIDADE - DEFERIDO                 2020          SIRIA   \n",
       "2  ELEGIBILIDADE - DEFERIDO                 2020          SIRIA   \n",
       "\n",
       "  Ano de Nascimento Cidade de solicitação Data da decisão  \n",
       "0              2004        RIO DE JANEIRO      2021-02-05  \n",
       "1              1991          PORTO ALEGRE      2021-02-05  \n",
       "2              1999             SAO PAULO      2021-02-05  "
      ]
     },
     "execution_count": 30,
     "metadata": {},
     "output_type": "execute_result"
    }
   ],
   "source": [
    "solicitacoes.head(3)"
   ]
  },
  {
   "cell_type": "code",
   "execution_count": 31,
   "id": "0f24eaf5",
   "metadata": {},
   "outputs": [
    {
     "data": {
      "text/plain": [
       "array([2004, 1991, 1999, 2003, 1993, 1992, 1997, 1964, 1989, 1986, 1962,\n",
       "       1963, 1982, 1980, 2011, 2018, 1983, 1984, 1990, 1981, 1985, 1971,\n",
       "       1975, 1987, 1988, 1977, 1994, 1965, 2000, 1976, 1967, 1970, 1968,\n",
       "       1954, 1998, 1996, 1973, 2014, 2006, 2015, 2012, 2007, 2009, 2008,\n",
       "       2013, 2005, 2016, 2001, 2010, 2017, 2002, 1978, 1972, 1979, 2019,\n",
       "       1969, 1995, 1958, 1966, 1974, 1961, 1939, 1942, 1960, 1952, 1959,\n",
       "       2020, 1955, 1957, 1947, 1949, 1941, 1948, 1953, 1951, 1944, 1946,\n",
       "       1956, 1945, 1950, 1943, 1940, 1936, 1927, 1937, 1935, 1938, 1933,\n",
       "       1929, 1930, 1931, 1932, 1934, 1924, '0xf', 1900.0, 'Desconhecido'],\n",
       "      dtype=object)"
      ]
     },
     "execution_count": 31,
     "metadata": {},
     "output_type": "execute_result"
    }
   ],
   "source": [
    "solicitacoes['Ano de Nascimento'].unique()"
   ]
  },
  {
   "cell_type": "code",
   "execution_count": 32,
   "id": "f17a5d8a",
   "metadata": {},
   "outputs": [],
   "source": [
    "datas_invalidas = ['0xf', 'Desconhecido', 1900.0]\n",
    "solicitacoes = solicitacoes[~(solicitacoes['Ano de Nascimento'].isin(datas_invalidas))]"
   ]
  },
  {
   "cell_type": "code",
   "execution_count": 33,
   "id": "78f26331",
   "metadata": {},
   "outputs": [
    {
     "name": "stdout",
     "output_type": "stream",
     "text": [
      "<class 'pandas.core.frame.DataFrame'>\n",
      "Int64Index: 74590 entries, 0 to 74924\n",
      "Data columns (total 6 columns):\n",
      " #   Column                 Non-Null Count  Dtype         \n",
      "---  ------                 --------------  -----         \n",
      " 0   Decisão CONARE         74590 non-null  object        \n",
      " 1   Data de solicitação    74590 non-null  int64         \n",
      " 2   País de origem         74590 non-null  object        \n",
      " 3   Ano de Nascimento      74590 non-null  object        \n",
      " 4   Cidade de solicitação  74590 non-null  object        \n",
      " 5   Data da decisão        74590 non-null  datetime64[ns]\n",
      "dtypes: datetime64[ns](1), int64(1), object(4)\n",
      "memory usage: 4.0+ MB\n"
     ]
    }
   ],
   "source": [
    "solicitacoes.info()"
   ]
  },
  {
   "cell_type": "markdown",
   "id": "6837afd6",
   "metadata": {},
   "source": [
    "- **paises**\n",
    "\n",
    "Nesta base de dados, assim como em **solicitacoes**, aplicaremos a limpeza de espaços com `strip()`, texto em maiúscula com `upper()` e retirar acentos com a função personalizada `retirar_acento`."
   ]
  },
  {
   "cell_type": "code",
   "execution_count": 34,
   "id": "7fa7fa51",
   "metadata": {},
   "outputs": [],
   "source": [
    "paises['País de origem'] = paises['País de origem'].str.strip()\n",
    "paises['País de origem'] = paises['País de origem'].str.upper()\n",
    "paises['País de origem'] = paises['País de origem'].apply(retirar_acento)"
   ]
  },
  {
   "cell_type": "code",
   "execution_count": 35,
   "id": "62bf87ea",
   "metadata": {},
   "outputs": [
    {
     "data": {
      "text/html": [
       "<div>\n",
       "<style scoped>\n",
       "    .dataframe tbody tr th:only-of-type {\n",
       "        vertical-align: middle;\n",
       "    }\n",
       "\n",
       "    .dataframe tbody tr th {\n",
       "        vertical-align: top;\n",
       "    }\n",
       "\n",
       "    .dataframe thead th {\n",
       "        text-align: right;\n",
       "    }\n",
       "</style>\n",
       "<table border=\"1\" class=\"dataframe\">\n",
       "  <thead>\n",
       "    <tr style=\"text-align: right;\">\n",
       "      <th></th>\n",
       "      <th>País de origem</th>\n",
       "      <th>Continente de origem</th>\n",
       "    </tr>\n",
       "  </thead>\n",
       "  <tbody>\n",
       "    <tr>\n",
       "      <th>0</th>\n",
       "      <td>AFEGANISTAO</td>\n",
       "      <td>ÁSIA</td>\n",
       "    </tr>\n",
       "    <tr>\n",
       "      <th>1</th>\n",
       "      <td>AFRICA DO SUL</td>\n",
       "      <td>ÁFRICA</td>\n",
       "    </tr>\n",
       "    <tr>\n",
       "      <th>2</th>\n",
       "      <td>ALBANIA</td>\n",
       "      <td>EUROPA</td>\n",
       "    </tr>\n",
       "  </tbody>\n",
       "</table>\n",
       "</div>"
      ],
      "text/plain": [
       "  País de origem Continente de origem\n",
       "0    AFEGANISTAO                 ÁSIA\n",
       "1  AFRICA DO SUL               ÁFRICA\n",
       "2        ALBANIA               EUROPA"
      ]
     },
     "execution_count": 35,
     "metadata": {},
     "output_type": "execute_result"
    }
   ],
   "source": [
    "paises.head(3)"
   ]
  },
  {
   "cell_type": "markdown",
   "id": "08b72e65",
   "metadata": {},
   "source": [
    "- **cidadesBR**\n",
    "\n",
    "Nesta base de dados, assim como em **solicitacoes**, aplicaremos a limpeza de espaços com `strip()`, texto em maiúscula com `upper()` e retirar acentos com a função personalizada `retirar_acento`. Por fim, ajustaremos a coluna `Capital` para informar com 'SIM' ou 'NÃO' um município é a capital do estado."
   ]
  },
  {
   "cell_type": "code",
   "execution_count": 36,
   "id": "8fea2189",
   "metadata": {},
   "outputs": [],
   "source": [
    "cidadesBR['Região de solicitação'] = cidadesBR['Região de solicitação'].str.strip()\n",
    "cidadesBR['Município'] = cidadesBR['Município'].str.strip()"
   ]
  },
  {
   "cell_type": "code",
   "execution_count": 37,
   "id": "ce4d1ea8",
   "metadata": {},
   "outputs": [],
   "source": [
    "cidadesBR['Região de solicitação'] = cidadesBR['Região de solicitação'].str.upper()\n",
    "cidadesBR['Município'] = cidadesBR['Município'].str.upper()"
   ]
  },
  {
   "cell_type": "code",
   "execution_count": 38,
   "id": "bc741fe8",
   "metadata": {},
   "outputs": [],
   "source": [
    "cidadesBR['Município'] = cidadesBR['Município'].apply(retirar_acento)"
   ]
  },
  {
   "cell_type": "code",
   "execution_count": 39,
   "id": "e3322806",
   "metadata": {},
   "outputs": [],
   "source": [
    "cidadesBR['Capital'] = cidadesBR['Capital'].apply(lambda municipio:'SIM' if municipio == 'Capital' else 'NÃO')"
   ]
  },
  {
   "cell_type": "code",
   "execution_count": 40,
   "id": "28170bf6",
   "metadata": {
    "scrolled": true
   },
   "outputs": [
    {
     "data": {
      "text/html": [
       "<div>\n",
       "<style scoped>\n",
       "    .dataframe tbody tr th:only-of-type {\n",
       "        vertical-align: middle;\n",
       "    }\n",
       "\n",
       "    .dataframe tbody tr th {\n",
       "        vertical-align: top;\n",
       "    }\n",
       "\n",
       "    .dataframe thead th {\n",
       "        text-align: right;\n",
       "    }\n",
       "</style>\n",
       "<table border=\"1\" class=\"dataframe\">\n",
       "  <thead>\n",
       "    <tr style=\"text-align: right;\">\n",
       "      <th></th>\n",
       "      <th>Estado de solicitação</th>\n",
       "      <th>Município</th>\n",
       "      <th>Região de solicitação</th>\n",
       "      <th>População 2010</th>\n",
       "      <th>Capital</th>\n",
       "    </tr>\n",
       "  </thead>\n",
       "  <tbody>\n",
       "    <tr>\n",
       "      <th>3648</th>\n",
       "      <td>SP</td>\n",
       "      <td>OLEO</td>\n",
       "      <td>SUDESTE</td>\n",
       "      <td>2673.0</td>\n",
       "      <td>NÃO</td>\n",
       "    </tr>\n",
       "    <tr>\n",
       "      <th>232</th>\n",
       "      <td>PA</td>\n",
       "      <td>OBIDOS</td>\n",
       "      <td>NORTE</td>\n",
       "      <td>49333.0</td>\n",
       "      <td>NÃO</td>\n",
       "    </tr>\n",
       "    <tr>\n",
       "      <th>1832</th>\n",
       "      <td>BA</td>\n",
       "      <td>ERICO CARDOSO</td>\n",
       "      <td>NORDESTE</td>\n",
       "      <td>10859.0</td>\n",
       "      <td>NÃO</td>\n",
       "    </tr>\n",
       "  </tbody>\n",
       "</table>\n",
       "</div>"
      ],
      "text/plain": [
       "     Estado de solicitação      Município Região de solicitação  \\\n",
       "3648                    SP           OLEO               SUDESTE   \n",
       "232                     PA         OBIDOS                 NORTE   \n",
       "1832                    BA  ERICO CARDOSO              NORDESTE   \n",
       "\n",
       "      População 2010 Capital  \n",
       "3648          2673.0     NÃO  \n",
       "232          49333.0     NÃO  \n",
       "1832         10859.0     NÃO  "
      ]
     },
     "execution_count": 40,
     "metadata": {},
     "output_type": "execute_result"
    }
   ],
   "source": [
    "cidadesBR.head(3)"
   ]
  },
  {
   "cell_type": "markdown",
   "id": "c8f61cf0",
   "metadata": {},
   "source": [
    "- **df_solicitacoes**\n",
    "\n",
    "Este DataFrame foi criado para agrupar as informações coletadas, assim  será possível criar um arquivo único (já tratado) para desenvolvermos o painel. Para isso, começaremos mesclando as **solicitacoes** com **paises** e avaliaremos se as informações estão corretas."
   ]
  },
  {
   "cell_type": "code",
   "execution_count": 41,
   "id": "2adfd0bd",
   "metadata": {},
   "outputs": [],
   "source": [
    "df_solicitacoes = pd.merge(left= solicitacoes, right= paises, \n",
    "                           on= 'País de origem', how= 'left', \n",
    "                           validate= \"m:1\")"
   ]
  },
  {
   "cell_type": "code",
   "execution_count": 42,
   "id": "64a64336",
   "metadata": {},
   "outputs": [
    {
     "data": {
      "text/html": [
       "<div>\n",
       "<style scoped>\n",
       "    .dataframe tbody tr th:only-of-type {\n",
       "        vertical-align: middle;\n",
       "    }\n",
       "\n",
       "    .dataframe tbody tr th {\n",
       "        vertical-align: top;\n",
       "    }\n",
       "\n",
       "    .dataframe thead th {\n",
       "        text-align: right;\n",
       "    }\n",
       "</style>\n",
       "<table border=\"1\" class=\"dataframe\">\n",
       "  <thead>\n",
       "    <tr style=\"text-align: right;\">\n",
       "      <th></th>\n",
       "      <th>Decisão CONARE</th>\n",
       "      <th>Data de solicitação</th>\n",
       "      <th>País de origem</th>\n",
       "      <th>Ano de Nascimento</th>\n",
       "      <th>Cidade de solicitação</th>\n",
       "      <th>Data da decisão</th>\n",
       "      <th>Continente de origem</th>\n",
       "    </tr>\n",
       "  </thead>\n",
       "  <tbody>\n",
       "    <tr>\n",
       "      <th>0</th>\n",
       "      <td>ELEGIBILIDADE - DEFERIDO</td>\n",
       "      <td>2020</td>\n",
       "      <td>SIRIA</td>\n",
       "      <td>2004</td>\n",
       "      <td>RIO DE JANEIRO</td>\n",
       "      <td>2021-02-05</td>\n",
       "      <td>ÁSIA</td>\n",
       "    </tr>\n",
       "    <tr>\n",
       "      <th>1</th>\n",
       "      <td>ELEGIBILIDADE - DEFERIDO</td>\n",
       "      <td>2020</td>\n",
       "      <td>SIRIA</td>\n",
       "      <td>1991</td>\n",
       "      <td>PORTO ALEGRE</td>\n",
       "      <td>2021-02-05</td>\n",
       "      <td>ÁSIA</td>\n",
       "    </tr>\n",
       "    <tr>\n",
       "      <th>2</th>\n",
       "      <td>ELEGIBILIDADE - DEFERIDO</td>\n",
       "      <td>2020</td>\n",
       "      <td>SIRIA</td>\n",
       "      <td>1999</td>\n",
       "      <td>SAO PAULO</td>\n",
       "      <td>2021-02-05</td>\n",
       "      <td>ÁSIA</td>\n",
       "    </tr>\n",
       "    <tr>\n",
       "      <th>3</th>\n",
       "      <td>ELEGIBILIDADE - DEFERIDO</td>\n",
       "      <td>2020</td>\n",
       "      <td>SIRIA</td>\n",
       "      <td>2003</td>\n",
       "      <td>RIO DE JANEIRO</td>\n",
       "      <td>2021-02-05</td>\n",
       "      <td>ÁSIA</td>\n",
       "    </tr>\n",
       "    <tr>\n",
       "      <th>4</th>\n",
       "      <td>ELEGIBILIDADE - DEFERIDO</td>\n",
       "      <td>2020</td>\n",
       "      <td>SIRIA</td>\n",
       "      <td>1993</td>\n",
       "      <td>SAO PAULO</td>\n",
       "      <td>2021-02-05</td>\n",
       "      <td>ÁSIA</td>\n",
       "    </tr>\n",
       "  </tbody>\n",
       "</table>\n",
       "</div>"
      ],
      "text/plain": [
       "             Decisão CONARE  Data de solicitação País de origem  \\\n",
       "0  ELEGIBILIDADE - DEFERIDO                 2020          SIRIA   \n",
       "1  ELEGIBILIDADE - DEFERIDO                 2020          SIRIA   \n",
       "2  ELEGIBILIDADE - DEFERIDO                 2020          SIRIA   \n",
       "3  ELEGIBILIDADE - DEFERIDO                 2020          SIRIA   \n",
       "4  ELEGIBILIDADE - DEFERIDO                 2020          SIRIA   \n",
       "\n",
       "  Ano de Nascimento Cidade de solicitação Data da decisão Continente de origem  \n",
       "0              2004        RIO DE JANEIRO      2021-02-05                 ÁSIA  \n",
       "1              1991          PORTO ALEGRE      2021-02-05                 ÁSIA  \n",
       "2              1999             SAO PAULO      2021-02-05                 ÁSIA  \n",
       "3              2003        RIO DE JANEIRO      2021-02-05                 ÁSIA  \n",
       "4              1993             SAO PAULO      2021-02-05                 ÁSIA  "
      ]
     },
     "execution_count": 42,
     "metadata": {},
     "output_type": "execute_result"
    }
   ],
   "source": [
    "df_solicitacoes.head()"
   ]
  },
  {
   "cell_type": "code",
   "execution_count": 43,
   "id": "a19ee421",
   "metadata": {},
   "outputs": [
    {
     "name": "stdout",
     "output_type": "stream",
     "text": [
      "<class 'pandas.core.frame.DataFrame'>\n",
      "Int64Index: 74590 entries, 0 to 74589\n",
      "Data columns (total 7 columns):\n",
      " #   Column                 Non-Null Count  Dtype         \n",
      "---  ------                 --------------  -----         \n",
      " 0   Decisão CONARE         74590 non-null  object        \n",
      " 1   Data de solicitação    74590 non-null  int64         \n",
      " 2   País de origem         74590 non-null  object        \n",
      " 3   Ano de Nascimento      74590 non-null  object        \n",
      " 4   Cidade de solicitação  74590 non-null  object        \n",
      " 5   Data da decisão        74590 non-null  datetime64[ns]\n",
      " 6   Continente de origem   74581 non-null  object        \n",
      "dtypes: datetime64[ns](1), int64(1), object(5)\n",
      "memory usage: 4.6+ MB\n"
     ]
    }
   ],
   "source": [
    "df_solicitacoes.info()"
   ]
  },
  {
   "cell_type": "markdown",
   "id": "185ef35f",
   "metadata": {},
   "source": [
    "Após o `merge` é possível encontrar paises nomeados como 'MODOU NIANG', 'APATRIDA' e 'NAO INFORMADO', esses casos excluiremos da base, pois são inconsistências."
   ]
  },
  {
   "cell_type": "code",
   "execution_count": 44,
   "id": "0b71048b",
   "metadata": {},
   "outputs": [
    {
     "data": {
      "text/plain": [
       "array(['MODOU NIANG', 'NAO INFORMADO', 'APATRIDA'], dtype=object)"
      ]
     },
     "execution_count": 44,
     "metadata": {},
     "output_type": "execute_result"
    }
   ],
   "source": [
    "# paises que não tiveram correspondências de continente foram excluídos\n",
    "df_solicitacoes[df_solicitacoes['Continente de origem'].isnull()]['País de origem'].unique()"
   ]
  },
  {
   "cell_type": "code",
   "execution_count": 45,
   "id": "4a7f0e4c",
   "metadata": {},
   "outputs": [],
   "source": [
    "df_solicitacoes = df_solicitacoes[~(df_solicitacoes['Continente de origem'].isnull())]"
   ]
  },
  {
   "cell_type": "markdown",
   "id": "d75e8fcd",
   "metadata": {},
   "source": [
    "O próximo passo a ser realizado em **df_solicitacoes** é mesclar com **cidadesBR**, mas antes de usar o `merge`, no Brasil existem municípios com o mesmo nome e isso acabaria duplicando ou triplicando um registro com essa característica. Como não existe outra coluna que ajude nessa definição i.e. temos uma imprecisão na base de dados já que não é possível ter certeza do local exato onde essas solicitações foram geradas. Por isso, usaremos como premissa que o local da solicitação será o que possui maior número de habitantes e para isso será usada a função `drop_duplicates()`.\n",
    "\n",
    "Outra alternativa válida como premissa seria identificar todos os municípios que recebem solicitações de refúgio, mas durante a investigação nada foi encontrado, mas fica como sugestão."
   ]
  },
  {
   "cell_type": "code",
   "execution_count": 46,
   "id": "fc00d045",
   "metadata": {},
   "outputs": [],
   "source": [
    "cidadesBR.drop_duplicates(subset='Município', keep='first', inplace= True)"
   ]
  },
  {
   "cell_type": "code",
   "execution_count": 47,
   "id": "6595c8b6",
   "metadata": {},
   "outputs": [
    {
     "data": {
      "text/html": [
       "<div>\n",
       "<style scoped>\n",
       "    .dataframe tbody tr th:only-of-type {\n",
       "        vertical-align: middle;\n",
       "    }\n",
       "\n",
       "    .dataframe tbody tr th {\n",
       "        vertical-align: top;\n",
       "    }\n",
       "\n",
       "    .dataframe thead th {\n",
       "        text-align: right;\n",
       "    }\n",
       "</style>\n",
       "<table border=\"1\" class=\"dataframe\">\n",
       "  <thead>\n",
       "    <tr style=\"text-align: right;\">\n",
       "      <th></th>\n",
       "      <th>Estado de solicitação</th>\n",
       "      <th>Município</th>\n",
       "      <th>Região de solicitação</th>\n",
       "      <th>População 2010</th>\n",
       "      <th>Capital</th>\n",
       "    </tr>\n",
       "  </thead>\n",
       "  <tbody>\n",
       "    <tr>\n",
       "      <th>3648</th>\n",
       "      <td>SP</td>\n",
       "      <td>OLEO</td>\n",
       "      <td>SUDESTE</td>\n",
       "      <td>2673.0</td>\n",
       "      <td>NÃO</td>\n",
       "    </tr>\n",
       "    <tr>\n",
       "      <th>232</th>\n",
       "      <td>PA</td>\n",
       "      <td>OBIDOS</td>\n",
       "      <td>NORTE</td>\n",
       "      <td>49333.0</td>\n",
       "      <td>NÃO</td>\n",
       "    </tr>\n",
       "    <tr>\n",
       "      <th>1832</th>\n",
       "      <td>BA</td>\n",
       "      <td>ERICO CARDOSO</td>\n",
       "      <td>NORDESTE</td>\n",
       "      <td>10859.0</td>\n",
       "      <td>NÃO</td>\n",
       "    </tr>\n",
       "    <tr>\n",
       "      <th>3925</th>\n",
       "      <td>PR</td>\n",
       "      <td>ANGULO</td>\n",
       "      <td>SUL</td>\n",
       "      <td>2859.0</td>\n",
       "      <td>NÃO</td>\n",
       "    </tr>\n",
       "    <tr>\n",
       "      <th>4634</th>\n",
       "      <td>RS</td>\n",
       "      <td>AUREA</td>\n",
       "      <td>SUL</td>\n",
       "      <td>3665.0</td>\n",
       "      <td>NÃO</td>\n",
       "    </tr>\n",
       "    <tr>\n",
       "      <th>...</th>\n",
       "      <td>...</td>\n",
       "      <td>...</td>\n",
       "      <td>...</td>\n",
       "      <td>...</td>\n",
       "      <td>...</td>\n",
       "    </tr>\n",
       "    <tr>\n",
       "      <th>2245</th>\n",
       "      <td>MG</td>\n",
       "      <td>ABAETE</td>\n",
       "      <td>SUDESTE</td>\n",
       "      <td>22690.0</td>\n",
       "      <td>NÃO</td>\n",
       "    </tr>\n",
       "    <tr>\n",
       "      <th>151</th>\n",
       "      <td>PA</td>\n",
       "      <td>ABAETETUBA</td>\n",
       "      <td>NORTE</td>\n",
       "      <td>141100.0</td>\n",
       "      <td>NÃO</td>\n",
       "    </tr>\n",
       "    <tr>\n",
       "      <th>5324</th>\n",
       "      <td>GO</td>\n",
       "      <td>ABADIANIA</td>\n",
       "      <td>CENTRO-OESTE</td>\n",
       "      <td>15757.0</td>\n",
       "      <td>NÃO</td>\n",
       "    </tr>\n",
       "    <tr>\n",
       "      <th>5323</th>\n",
       "      <td>GO</td>\n",
       "      <td>ABADIA DE GOIAS</td>\n",
       "      <td>CENTRO-OESTE</td>\n",
       "      <td>6876.0</td>\n",
       "      <td>NÃO</td>\n",
       "    </tr>\n",
       "    <tr>\n",
       "      <th>2244</th>\n",
       "      <td>MG</td>\n",
       "      <td>ABADIA DOS DOURADOS</td>\n",
       "      <td>SUDESTE</td>\n",
       "      <td>6704.0</td>\n",
       "      <td>NÃO</td>\n",
       "    </tr>\n",
       "  </tbody>\n",
       "</table>\n",
       "<p>5289 rows × 5 columns</p>\n",
       "</div>"
      ],
      "text/plain": [
       "     Estado de solicitação            Município Região de solicitação  \\\n",
       "3648                    SP                 OLEO               SUDESTE   \n",
       "232                     PA               OBIDOS                 NORTE   \n",
       "1832                    BA        ERICO CARDOSO              NORDESTE   \n",
       "3925                    PR               ANGULO                   SUL   \n",
       "4634                    RS                AUREA                   SUL   \n",
       "...                    ...                  ...                   ...   \n",
       "2245                    MG               ABAETE               SUDESTE   \n",
       "151                     PA           ABAETETUBA                 NORTE   \n",
       "5324                    GO            ABADIANIA          CENTRO-OESTE   \n",
       "5323                    GO      ABADIA DE GOIAS          CENTRO-OESTE   \n",
       "2244                    MG  ABADIA DOS DOURADOS               SUDESTE   \n",
       "\n",
       "      População 2010 Capital  \n",
       "3648          2673.0     NÃO  \n",
       "232          49333.0     NÃO  \n",
       "1832         10859.0     NÃO  \n",
       "3925          2859.0     NÃO  \n",
       "4634          3665.0     NÃO  \n",
       "...              ...     ...  \n",
       "2245         22690.0     NÃO  \n",
       "151         141100.0     NÃO  \n",
       "5324         15757.0     NÃO  \n",
       "5323          6876.0     NÃO  \n",
       "2244          6704.0     NÃO  \n",
       "\n",
       "[5289 rows x 5 columns]"
      ]
     },
     "execution_count": 47,
     "metadata": {},
     "output_type": "execute_result"
    }
   ],
   "source": [
    "cidadesBR"
   ]
  },
  {
   "cell_type": "code",
   "execution_count": 48,
   "id": "126c4353",
   "metadata": {},
   "outputs": [],
   "source": [
    "df_solicitacoes = pd.merge(left= df_solicitacoes, right= cidadesBR, \n",
    "                           left_on= 'Cidade de solicitação', right_on= 'Município', \n",
    "                           how= 'left', validate= \"m:1\").drop(columns = ['Município'])"
   ]
  },
  {
   "cell_type": "code",
   "execution_count": 49,
   "id": "5bf18067",
   "metadata": {},
   "outputs": [
    {
     "data": {
      "text/html": [
       "<div>\n",
       "<style scoped>\n",
       "    .dataframe tbody tr th:only-of-type {\n",
       "        vertical-align: middle;\n",
       "    }\n",
       "\n",
       "    .dataframe tbody tr th {\n",
       "        vertical-align: top;\n",
       "    }\n",
       "\n",
       "    .dataframe thead th {\n",
       "        text-align: right;\n",
       "    }\n",
       "</style>\n",
       "<table border=\"1\" class=\"dataframe\">\n",
       "  <thead>\n",
       "    <tr style=\"text-align: right;\">\n",
       "      <th></th>\n",
       "      <th>Decisão CONARE</th>\n",
       "      <th>Data de solicitação</th>\n",
       "      <th>País de origem</th>\n",
       "      <th>Ano de Nascimento</th>\n",
       "      <th>Cidade de solicitação</th>\n",
       "      <th>Data da decisão</th>\n",
       "      <th>Continente de origem</th>\n",
       "      <th>Estado de solicitação</th>\n",
       "      <th>Região de solicitação</th>\n",
       "      <th>População 2010</th>\n",
       "      <th>Capital</th>\n",
       "    </tr>\n",
       "  </thead>\n",
       "  <tbody>\n",
       "    <tr>\n",
       "      <th>0</th>\n",
       "      <td>ELEGIBILIDADE - DEFERIDO</td>\n",
       "      <td>2020</td>\n",
       "      <td>SIRIA</td>\n",
       "      <td>2004</td>\n",
       "      <td>RIO DE JANEIRO</td>\n",
       "      <td>2021-02-05</td>\n",
       "      <td>ÁSIA</td>\n",
       "      <td>RJ</td>\n",
       "      <td>SUDESTE</td>\n",
       "      <td>6320446.0</td>\n",
       "      <td>SIM</td>\n",
       "    </tr>\n",
       "    <tr>\n",
       "      <th>1</th>\n",
       "      <td>ELEGIBILIDADE - DEFERIDO</td>\n",
       "      <td>2020</td>\n",
       "      <td>SIRIA</td>\n",
       "      <td>1991</td>\n",
       "      <td>PORTO ALEGRE</td>\n",
       "      <td>2021-02-05</td>\n",
       "      <td>ÁSIA</td>\n",
       "      <td>RS</td>\n",
       "      <td>SUL</td>\n",
       "      <td>1409351.0</td>\n",
       "      <td>SIM</td>\n",
       "    </tr>\n",
       "    <tr>\n",
       "      <th>2</th>\n",
       "      <td>ELEGIBILIDADE - DEFERIDO</td>\n",
       "      <td>2020</td>\n",
       "      <td>SIRIA</td>\n",
       "      <td>1999</td>\n",
       "      <td>SAO PAULO</td>\n",
       "      <td>2021-02-05</td>\n",
       "      <td>ÁSIA</td>\n",
       "      <td>SP</td>\n",
       "      <td>SUDESTE</td>\n",
       "      <td>11253503.0</td>\n",
       "      <td>SIM</td>\n",
       "    </tr>\n",
       "  </tbody>\n",
       "</table>\n",
       "</div>"
      ],
      "text/plain": [
       "             Decisão CONARE  Data de solicitação País de origem  \\\n",
       "0  ELEGIBILIDADE - DEFERIDO                 2020          SIRIA   \n",
       "1  ELEGIBILIDADE - DEFERIDO                 2020          SIRIA   \n",
       "2  ELEGIBILIDADE - DEFERIDO                 2020          SIRIA   \n",
       "\n",
       "  Ano de Nascimento Cidade de solicitação Data da decisão  \\\n",
       "0              2004        RIO DE JANEIRO      2021-02-05   \n",
       "1              1991          PORTO ALEGRE      2021-02-05   \n",
       "2              1999             SAO PAULO      2021-02-05   \n",
       "\n",
       "  Continente de origem Estado de solicitação Região de solicitação  \\\n",
       "0                 ÁSIA                    RJ               SUDESTE   \n",
       "1                 ÁSIA                    RS                   SUL   \n",
       "2                 ÁSIA                    SP               SUDESTE   \n",
       "\n",
       "   População 2010 Capital  \n",
       "0       6320446.0     SIM  \n",
       "1       1409351.0     SIM  \n",
       "2      11253503.0     SIM  "
      ]
     },
     "execution_count": 49,
     "metadata": {},
     "output_type": "execute_result"
    }
   ],
   "source": [
    "df_solicitacoes.head(3)"
   ]
  },
  {
   "cell_type": "code",
   "execution_count": 50,
   "id": "a048f015",
   "metadata": {},
   "outputs": [
    {
     "name": "stdout",
     "output_type": "stream",
     "text": [
      "<class 'pandas.core.frame.DataFrame'>\n",
      "Int64Index: 74581 entries, 0 to 74580\n",
      "Data columns (total 11 columns):\n",
      " #   Column                 Non-Null Count  Dtype         \n",
      "---  ------                 --------------  -----         \n",
      " 0   Decisão CONARE         74581 non-null  object        \n",
      " 1   Data de solicitação    74581 non-null  int64         \n",
      " 2   País de origem         74581 non-null  object        \n",
      " 3   Ano de Nascimento      74581 non-null  object        \n",
      " 4   Cidade de solicitação  74581 non-null  object        \n",
      " 5   Data da decisão        74581 non-null  datetime64[ns]\n",
      " 6   Continente de origem   74581 non-null  object        \n",
      " 7   Estado de solicitação  74485 non-null  object        \n",
      " 8   Região de solicitação  74485 non-null  object        \n",
      " 9   População 2010         74485 non-null  float64       \n",
      " 10  Capital                74485 non-null  object        \n",
      "dtypes: datetime64[ns](1), float64(1), int64(1), object(8)\n",
      "memory usage: 6.8+ MB\n"
     ]
    }
   ],
   "source": [
    "df_solicitacoes.info()"
   ]
  },
  {
   "cell_type": "markdown",
   "id": "96107823",
   "metadata": {},
   "source": [
    "Após usar a função `escolher_registro()` é possível encontrar cidades nomeadas como '\"A DEFINIR\"' ou '0X2A', esses casos excluiremos da base, pois são inconsistências."
   ]
  },
  {
   "cell_type": "code",
   "execution_count": 51,
   "id": "f2e46897",
   "metadata": {},
   "outputs": [
    {
     "data": {
      "text/plain": [
       "array(['\"A DEFINIR\"', '0X2A'], dtype=object)"
      ]
     },
     "execution_count": 51,
     "metadata": {},
     "output_type": "execute_result"
    }
   ],
   "source": [
    "# registros que não tiveram cidades válidas foram excluídos\n",
    "df_solicitacoes[df_solicitacoes['Estado de solicitação'].isnull()]['Cidade de solicitação'].unique()"
   ]
  },
  {
   "cell_type": "code",
   "execution_count": 52,
   "id": "05e5670f",
   "metadata": {},
   "outputs": [],
   "source": [
    "df_solicitacoes = df_solicitacoes[~(df_solicitacoes['Estado de solicitação'].isnull())]"
   ]
  },
  {
   "cell_type": "code",
   "execution_count": 53,
   "id": "25f7f36d",
   "metadata": {},
   "outputs": [
    {
     "data": {
      "text/html": [
       "<div>\n",
       "<style scoped>\n",
       "    .dataframe tbody tr th:only-of-type {\n",
       "        vertical-align: middle;\n",
       "    }\n",
       "\n",
       "    .dataframe tbody tr th {\n",
       "        vertical-align: top;\n",
       "    }\n",
       "\n",
       "    .dataframe thead th {\n",
       "        text-align: right;\n",
       "    }\n",
       "</style>\n",
       "<table border=\"1\" class=\"dataframe\">\n",
       "  <thead>\n",
       "    <tr style=\"text-align: right;\">\n",
       "      <th></th>\n",
       "      <th>Decisão CONARE</th>\n",
       "      <th>Data de solicitação</th>\n",
       "      <th>País de origem</th>\n",
       "      <th>Ano de Nascimento</th>\n",
       "      <th>Cidade de solicitação</th>\n",
       "      <th>Data da decisão</th>\n",
       "      <th>Continente de origem</th>\n",
       "      <th>Estado de solicitação</th>\n",
       "      <th>Região de solicitação</th>\n",
       "      <th>População 2010</th>\n",
       "      <th>Capital</th>\n",
       "    </tr>\n",
       "  </thead>\n",
       "  <tbody>\n",
       "    <tr>\n",
       "      <th>0</th>\n",
       "      <td>ELEGIBILIDADE - DEFERIDO</td>\n",
       "      <td>2020</td>\n",
       "      <td>SIRIA</td>\n",
       "      <td>2004</td>\n",
       "      <td>RIO DE JANEIRO</td>\n",
       "      <td>2021-02-05</td>\n",
       "      <td>ÁSIA</td>\n",
       "      <td>RJ</td>\n",
       "      <td>SUDESTE</td>\n",
       "      <td>6320446.0</td>\n",
       "      <td>SIM</td>\n",
       "    </tr>\n",
       "    <tr>\n",
       "      <th>1</th>\n",
       "      <td>ELEGIBILIDADE - DEFERIDO</td>\n",
       "      <td>2020</td>\n",
       "      <td>SIRIA</td>\n",
       "      <td>1991</td>\n",
       "      <td>PORTO ALEGRE</td>\n",
       "      <td>2021-02-05</td>\n",
       "      <td>ÁSIA</td>\n",
       "      <td>RS</td>\n",
       "      <td>SUL</td>\n",
       "      <td>1409351.0</td>\n",
       "      <td>SIM</td>\n",
       "    </tr>\n",
       "    <tr>\n",
       "      <th>2</th>\n",
       "      <td>ELEGIBILIDADE - DEFERIDO</td>\n",
       "      <td>2020</td>\n",
       "      <td>SIRIA</td>\n",
       "      <td>1999</td>\n",
       "      <td>SAO PAULO</td>\n",
       "      <td>2021-02-05</td>\n",
       "      <td>ÁSIA</td>\n",
       "      <td>SP</td>\n",
       "      <td>SUDESTE</td>\n",
       "      <td>11253503.0</td>\n",
       "      <td>SIM</td>\n",
       "    </tr>\n",
       "    <tr>\n",
       "      <th>3</th>\n",
       "      <td>ELEGIBILIDADE - DEFERIDO</td>\n",
       "      <td>2020</td>\n",
       "      <td>SIRIA</td>\n",
       "      <td>2003</td>\n",
       "      <td>RIO DE JANEIRO</td>\n",
       "      <td>2021-02-05</td>\n",
       "      <td>ÁSIA</td>\n",
       "      <td>RJ</td>\n",
       "      <td>SUDESTE</td>\n",
       "      <td>6320446.0</td>\n",
       "      <td>SIM</td>\n",
       "    </tr>\n",
       "    <tr>\n",
       "      <th>4</th>\n",
       "      <td>ELEGIBILIDADE - DEFERIDO</td>\n",
       "      <td>2020</td>\n",
       "      <td>SIRIA</td>\n",
       "      <td>1993</td>\n",
       "      <td>SAO PAULO</td>\n",
       "      <td>2021-02-05</td>\n",
       "      <td>ÁSIA</td>\n",
       "      <td>SP</td>\n",
       "      <td>SUDESTE</td>\n",
       "      <td>11253503.0</td>\n",
       "      <td>SIM</td>\n",
       "    </tr>\n",
       "    <tr>\n",
       "      <th>...</th>\n",
       "      <td>...</td>\n",
       "      <td>...</td>\n",
       "      <td>...</td>\n",
       "      <td>...</td>\n",
       "      <td>...</td>\n",
       "      <td>...</td>\n",
       "      <td>...</td>\n",
       "      <td>...</td>\n",
       "      <td>...</td>\n",
       "      <td>...</td>\n",
       "      <td>...</td>\n",
       "    </tr>\n",
       "    <tr>\n",
       "      <th>74576</th>\n",
       "      <td>ERRO DE LANÇAMENTO NA LISTAGEM DA PLENÁRIA</td>\n",
       "      <td>2014</td>\n",
       "      <td>BURKINA FASO</td>\n",
       "      <td>1977</td>\n",
       "      <td>SAO PAULO</td>\n",
       "      <td>2015-12-11</td>\n",
       "      <td>ÁFRICA</td>\n",
       "      <td>SP</td>\n",
       "      <td>SUDESTE</td>\n",
       "      <td>11253503.0</td>\n",
       "      <td>SIM</td>\n",
       "    </tr>\n",
       "    <tr>\n",
       "      <th>74577</th>\n",
       "      <td>ERRO DE LANÇAMENTO NA LISTAGEM DA PLENÁRIA</td>\n",
       "      <td>2014</td>\n",
       "      <td>BURKINA FASO</td>\n",
       "      <td>1979</td>\n",
       "      <td>SAO PAULO</td>\n",
       "      <td>2015-12-11</td>\n",
       "      <td>ÁFRICA</td>\n",
       "      <td>SP</td>\n",
       "      <td>SUDESTE</td>\n",
       "      <td>11253503.0</td>\n",
       "      <td>SIM</td>\n",
       "    </tr>\n",
       "    <tr>\n",
       "      <th>74578</th>\n",
       "      <td>ERRO DE LANÇAMENTO NA LISTAGEM DA PLENÁRIA</td>\n",
       "      <td>2014</td>\n",
       "      <td>BURKINA FASO</td>\n",
       "      <td>1986</td>\n",
       "      <td>SAO PAULO</td>\n",
       "      <td>2015-12-11</td>\n",
       "      <td>ÁFRICA</td>\n",
       "      <td>SP</td>\n",
       "      <td>SUDESTE</td>\n",
       "      <td>11253503.0</td>\n",
       "      <td>SIM</td>\n",
       "    </tr>\n",
       "    <tr>\n",
       "      <th>74579</th>\n",
       "      <td>ERRO DE LANÇAMENTO NA LISTAGEM DA PLENÁRIA</td>\n",
       "      <td>2014</td>\n",
       "      <td>CUBA</td>\n",
       "      <td>1989</td>\n",
       "      <td>BRASILIA</td>\n",
       "      <td>2015-12-11</td>\n",
       "      <td>AMÉRICA</td>\n",
       "      <td>DF</td>\n",
       "      <td>CENTRO-OESTE</td>\n",
       "      <td>2570160.0</td>\n",
       "      <td>SIM</td>\n",
       "    </tr>\n",
       "    <tr>\n",
       "      <th>74580</th>\n",
       "      <td>ERRO DE LANÇAMENTO NA LISTAGEM DA PLENÁRIA</td>\n",
       "      <td>2014</td>\n",
       "      <td>EGITO</td>\n",
       "      <td>1986</td>\n",
       "      <td>SAO PAULO</td>\n",
       "      <td>2015-12-11</td>\n",
       "      <td>ÁFRICA</td>\n",
       "      <td>SP</td>\n",
       "      <td>SUDESTE</td>\n",
       "      <td>11253503.0</td>\n",
       "      <td>SIM</td>\n",
       "    </tr>\n",
       "  </tbody>\n",
       "</table>\n",
       "<p>74485 rows × 11 columns</p>\n",
       "</div>"
      ],
      "text/plain": [
       "                                   Decisão CONARE  Data de solicitação  \\\n",
       "0                        ELEGIBILIDADE - DEFERIDO                 2020   \n",
       "1                        ELEGIBILIDADE - DEFERIDO                 2020   \n",
       "2                        ELEGIBILIDADE - DEFERIDO                 2020   \n",
       "3                        ELEGIBILIDADE - DEFERIDO                 2020   \n",
       "4                        ELEGIBILIDADE - DEFERIDO                 2020   \n",
       "...                                           ...                  ...   \n",
       "74576  ERRO DE LANÇAMENTO NA LISTAGEM DA PLENÁRIA                 2014   \n",
       "74577  ERRO DE LANÇAMENTO NA LISTAGEM DA PLENÁRIA                 2014   \n",
       "74578  ERRO DE LANÇAMENTO NA LISTAGEM DA PLENÁRIA                 2014   \n",
       "74579  ERRO DE LANÇAMENTO NA LISTAGEM DA PLENÁRIA                 2014   \n",
       "74580  ERRO DE LANÇAMENTO NA LISTAGEM DA PLENÁRIA                 2014   \n",
       "\n",
       "      País de origem Ano de Nascimento Cidade de solicitação Data da decisão  \\\n",
       "0              SIRIA              2004        RIO DE JANEIRO      2021-02-05   \n",
       "1              SIRIA              1991          PORTO ALEGRE      2021-02-05   \n",
       "2              SIRIA              1999             SAO PAULO      2021-02-05   \n",
       "3              SIRIA              2003        RIO DE JANEIRO      2021-02-05   \n",
       "4              SIRIA              1993             SAO PAULO      2021-02-05   \n",
       "...              ...               ...                   ...             ...   \n",
       "74576   BURKINA FASO              1977             SAO PAULO      2015-12-11   \n",
       "74577   BURKINA FASO              1979             SAO PAULO      2015-12-11   \n",
       "74578   BURKINA FASO              1986             SAO PAULO      2015-12-11   \n",
       "74579           CUBA              1989              BRASILIA      2015-12-11   \n",
       "74580          EGITO              1986             SAO PAULO      2015-12-11   \n",
       "\n",
       "      Continente de origem Estado de solicitação Região de solicitação  \\\n",
       "0                     ÁSIA                    RJ               SUDESTE   \n",
       "1                     ÁSIA                    RS                   SUL   \n",
       "2                     ÁSIA                    SP               SUDESTE   \n",
       "3                     ÁSIA                    RJ               SUDESTE   \n",
       "4                     ÁSIA                    SP               SUDESTE   \n",
       "...                    ...                   ...                   ...   \n",
       "74576               ÁFRICA                    SP               SUDESTE   \n",
       "74577               ÁFRICA                    SP               SUDESTE   \n",
       "74578               ÁFRICA                    SP               SUDESTE   \n",
       "74579              AMÉRICA                    DF          CENTRO-OESTE   \n",
       "74580               ÁFRICA                    SP               SUDESTE   \n",
       "\n",
       "       População 2010 Capital  \n",
       "0           6320446.0     SIM  \n",
       "1           1409351.0     SIM  \n",
       "2          11253503.0     SIM  \n",
       "3           6320446.0     SIM  \n",
       "4          11253503.0     SIM  \n",
       "...               ...     ...  \n",
       "74576      11253503.0     SIM  \n",
       "74577      11253503.0     SIM  \n",
       "74578      11253503.0     SIM  \n",
       "74579       2570160.0     SIM  \n",
       "74580      11253503.0     SIM  \n",
       "\n",
       "[74485 rows x 11 columns]"
      ]
     },
     "execution_count": 53,
     "metadata": {},
     "output_type": "execute_result"
    }
   ],
   "source": [
    "df_solicitacoes"
   ]
  },
  {
   "cell_type": "markdown",
   "id": "c52eb8b4",
   "metadata": {},
   "source": [
    "**_Obs:_** Mesmo não sendo o foco deste projeto, é válido reforçar que existem diversos caminhos para se chegar na mesma solução e um dos critérios que ajudam nessa escolha é a performance e otimização do código. Inicialmente, foi construída a função `escolher_registros()`, mas ao executá-la constatou-se um longo tempo de processamento. Por isso, ao reavaliar a melhor solução, usar `drop_duplicates()` demonstrou na prática ser a melhor alternativa."
   ]
  },
  {
   "cell_type": "code",
   "execution_count": 54,
   "id": "f438caac",
   "metadata": {},
   "outputs": [],
   "source": [
    " # solução descartada pelo longo tempo de processamento\n",
    "\n",
    "def escolher_registro(municipio, coluna):\n",
    "    try:\n",
    "        registros = cidadesBR[cidadesBR['Município'] == municipio]\n",
    "        n_reg = registros['Município'].count()\n",
    "        if n_reg > 0:\n",
    "            escolha = registros.loc[registros['População 2010'].idxmax()][coluna]\n",
    "            return escolha\n",
    "        else:\n",
    "            return None\n",
    "        \n",
    "    except:\n",
    "        return None"
   ]
  },
  {
   "cell_type": "code",
   "execution_count": 55,
   "id": "c1bb7646",
   "metadata": {},
   "outputs": [],
   "source": [
    " # solução descartada pelo longo tempo de processamento\n",
    "#df_solicitacoes_lento = pd.DataFrame()\n",
    "#df_solicitacoes_lento['Estado de solicitação'] = df_solicitacoes['Cidade de solicitação'].apply(lambda row: escolher_registro(row, 'Estado de solicitação'))\n",
    "#df_solicitacoes_lento['Região de solicitação'] = df_solicitacoes['Cidade de solicitação'].apply(lambda row: escolher_registro(row, 'Região de solicitação'))\n",
    "#df_solicitacoes_lento['Capital'] = df_solicitacoes['Cidade de solicitação'].apply(lambda row: escolher_registro(row, 'Capital'))"
   ]
  },
  {
   "cell_type": "markdown",
   "id": "e1bda1b7",
   "metadata": {},
   "source": [
    "O último passo para disponibilizarmos os dados tratados para o Power BI é avaliarmos o `STATUS`, pois pode ter sofrido alterações ao longo dos anos - talvez faça sentido reagruparmos de outa forma. Nesta etapa do tratamento dos dados usaremos o [guia de definições e terminologias](https://www.gov.br/mj/pt-br/assuntos/seus-direitos/refugio/anexos/ProjetoRefgioemNmerosFINAL.pdf) da ACNUR, neste ponto o conhecimento do negócio será determinante para escolhermos a melhor forma de apresentar essa informação."
   ]
  },
  {
   "cell_type": "markdown",
   "id": "b11f52ac",
   "metadata": {},
   "source": [
    "O anexo I do documento informa que o `STATUS` pode ser divido em **1- decisão do CONARE** e **2- justificativa alegada para a situação de refugiado (categoria)** tomando como base Resoluções Normativas, Estatuto de Refugiados e outros artigos de lei.\n",
    "\n",
    "\n",
    "| Decisão CONARE | Categoria | STATUS | <center>Definição</center> |\n",
    "|----------------|---------------|--------|-----------|\n",
    "| Concecido  | Elegibilidade | Elegibilidade Reconhecido | Solicitantes de reconhecimento da condição de refugiado que, após passarem pelo procedimento de determinação da condição de refugiado, foram reconhecidos como tal, por estarem presentes os requisitos previstos na Convenção Relativa ao Estatuto dos Refugiados de 1951 e/ou no art. 1º da Lei nº 9.474, de 1997. |\n",
    "| Concecido  | Extensão de refúgio | Elegibilidade Reconhecido | Deferimento da Extensão dos Efeitos da Condição de Refugiado, ou seja, concessão da extensão dos efeitos da condição de refugiado/a, por demonstrar o vínculo familiar e/ou a dependência econômica, previstos no art. 2º da Lei nº 9.474, de 1997. |\n",
    "| Concecido  | Reassentamento | Elegibilidade Reconhecido | Transferência de um refugiado, cujos direitos fundamentais estão em risco no primeiro país de refúgio, para outro Estado, que aceitou admiti-lo como refugiado. |\n",
    "| Negado | Elegibilidade | Elegibilidade Indeferida | Solicitantes de reconhecimento da condição de refugiado que, após passarem pelo procedimento de determinação da condição de refugiado, não lhes foi reconhecida esta condição, por não estarem presentes os requisitos previstos na Convenção Relativa ao Estatuto dos Refugiados de 1951 e/ou no art. 1º da Lei nº 9.474, de 1997, ou, ainda que presentes tais requisitos, por incidirem nas hipóteses de exclusão previstas no Art. 1(F) da Convenção de 1951 e no art. 3º da Lei nº 9.474, de 1997. |\n",
    "| Negado | Extensão de refúgio | Elegibilidade Indeferida | Indeferimento da Extensão dos Efeitos da Condição de Refugiado, ou seja, não concessão da extensão dos efeitos da condição de refugiado/a, por não demonstrar o vínculo familiar e/ou a dependência econômica, previstos no art. 2º da Lei nº 9.474, de 1997. |\n",
    "| Negado | Resolução CNIg | Elegibilidade Indeferida | Solicitantes de reconhecimento da condição de refugiado que tiveram seus casos indeferidos, nos termos da Resolução Recomendada nº 08, da Resolução Normativa nº 27, ambas do Conselho Nacional de Imigração – CNIg, combinada com o inciso I do art. 12 da Resolução Normativa nº 18 do Conare. |\n",
    "| Descontinuado | Perda | Perda da Condição de Refugiado | Toda pessoa refugiada que perde a condição de refugiado/a em razão de um dos motivos elencados no art. 39 da Lei nº 9.474, de 1997. |\n",
    "| Descontinuado | Cessação | Cessação | Toda pessoa refugiada que tem cessada a condição de refugiado/a em razão de um dos motivos elencados na Convenção Relativa ao Estatuto dos Refugiados de 1951 e/ou no art. 38 da Lei nº 9.474, de 1997. |\n",
    "| Descontinuado | Extinto | Extinção | Solicitantes de reconhecimento da condição de refugiado que tiveram suas solicitações extintas, sem resolução do mérito, pelos motivos elencados no art. 6º-B Resolução Normativa nº 18 do Conare (com redação dada pelas Resoluções Normativas nº 26 e 28 do Conare) ou no art. 6º da Resolução Normativa nº 23 do Conare (com redação dada pela Resolução Normativa nº 28 do Conare). |\n",
    "| Descontinuado | Arquivado | Arquivado | Solicitantes de reconhecimento da condição de refugiado que tiveram suas solicitações arquivadas pelos motivos elencados no art. 6º da Resolução Normativa nº 18 do Conare (com redação dada pelas Resoluções Normativas nº 26 e 28, ambas do Conare) ou no art. 6º da Resolução Normativa nº 23 do Conare (com redação dada pela Resolução Normativa nº 28 do Conare). |"
   ]
  },
  {
   "cell_type": "code",
   "execution_count": 56,
   "id": "72711e41",
   "metadata": {},
   "outputs": [
    {
     "data": {
      "text/plain": [
       "array(['ARQUIVADO', 'ARQUIVAMENTO', 'CESSAÇÃO',\n",
       "       'CESSAÇÃO / NATURALIZAÇÃO', 'ELEGIBILIDADE - DEFERIDO',\n",
       "       'ELEGIBILIDADE - INDEFERIDO', 'ELEGIBILIDADE / DEFERIMENTO',\n",
       "       'ELEGIBILIDADE / INDEFERIMENTO', 'ELIGIBILIDADE - DEFERIDO',\n",
       "       'ELIGIBILIDADE - INDEFERIDO', 'ENCAMINHAMENTO CNIG',\n",
       "       'ERRO DE LANÇAMENTO NA LISTAGEM DA PLENÁRIA',\n",
       "       'EXTENSÃO / DEFERIMENTO', 'EXTENSÃO / INDEFERIMENTO',\n",
       "       'EXTENSÃO DOS EFEITOS DA CONDIÇÃO DE REFUGIADO - DEFERIDO',\n",
       "       'EXTENSÃO DOS EFEITOS DA CONDIÇÃO DE REFUGIADO - INDEFERIDO',\n",
       "       'EXTINÇÃO (DESISTÊNCIA SEM FORMULÁRIO PRÓPRIO)',\n",
       "       'EXTINÇÃO (SEM RESOLUÇÃO DO MÉRITO) ART.6-B',\n",
       "       'INDEFERIDO CONARE - REGULARIZADO VIA CNIG',\n",
       "       'PERDA / ARQUIVAMENTO',\n",
       "       'PERDA / MANUTENÇÃO DA CONDIÇÃO DE REFUGIADO', 'PERDA / RENÚNCIA',\n",
       "       'PERDA / VIAGEM NÃO AUTORIZADA', 'PERDA DA CONDIÇÃO DE REFUGIADO',\n",
       "       'REASSENTAMENTO'], dtype=object)"
      ]
     },
     "execution_count": 56,
     "metadata": {},
     "output_type": "execute_result"
    }
   ],
   "source": [
    "df_solicitacoes['Decisão CONARE'].sort_values().unique()"
   ]
  },
  {
   "cell_type": "code",
   "execution_count": 57,
   "id": "102c854c",
   "metadata": {},
   "outputs": [],
   "source": [
    "padrao_nome = {'CONCEDIDO': ['ELEGIBILIDADE - DEFERIDO', 'ELEGIBILIDADE / DEFERIMENTO', \n",
    "                             'ELIGIBILIDADE - DEFERIDO', 'EXTENSÃO / DEFERIMENTO',\n",
    "                             'EXTENSÃO DOS EFEITOS DA CONDIÇÃO DE REFUGIADO - DEFERIDO', 'REASSENTAMENTO'],\n",
    "               'NEGADO': ['ELEGIBILIDADE - INDEFERIDO', 'ELEGIBILIDADE / INDEFERIMENTO', \n",
    "                          'ELIGIBILIDADE - INDEFERIDO', 'ENCAMINHAMENTO CNIG', 'EXTENSÃO / INDEFERIMENTO',\n",
    "                          'EXTENSÃO DOS EFEITOS DA CONDIÇÃO DE REFUGIADO - INDEFERIDO', \n",
    "                          'INDEFERIDO CONARE - REGULARIZADO VIA CNIG'],\n",
    "               'DESCONTINUADO': ['ARQUIVADO', 'ARQUIVAMENTO', 'CESSAÇÃO', 'CESSAÇÃO / NATURALIZAÇÃO', \n",
    "                                 'ERRO DE LANÇAMENTO NA LISTAGEM DA PLENÁRIA', \n",
    "                                 'EXTINÇÃO (DESISTÊNCIA SEM FORMULÁRIO PRÓPRIO)', \n",
    "                                 'EXTINÇÃO (SEM RESOLUÇÃO DO MÉRITO) ART.6-B', 'PERDA / ARQUIVAMENTO', \n",
    "                                 'PERDA / MANUTENÇÃO DA CONDIÇÃO DE REFUGIADO', 'PERDA / RENÚNCIA', \n",
    "                                 'PERDA / VIAGEM NÃO AUTORIZADA', 'PERDA DA CONDIÇÃO DE REFUGIADO']\n",
    "              }\n",
    "\n",
    "df_solicitacoes['Decisão'] = df_solicitacoes['Decisão CONARE'].apply(ajustar)"
   ]
  },
  {
   "cell_type": "code",
   "execution_count": 58,
   "id": "306d650c",
   "metadata": {},
   "outputs": [],
   "source": [
    "padrao_nome = {'ELEGIBILIDADE': ['ELEGIBILIDADE - DEFERIDO', 'ELEGIBILIDADE / DEFERIMENTO', \n",
    "                                 'ELIGIBILIDADE - DEFERIDO', 'ELEGIBILIDADE - INDEFERIDO', 'ELEGIBILIDADE / INDEFERIMENTO', \n",
    "                                 'ELIGIBILIDADE - INDEFERIDO'],\n",
    "               'EXTENSÃO': ['EXTENSÃO / DEFERIMENTO','EXTENSÃO DOS EFEITOS DA CONDIÇÃO DE REFUGIADO - DEFERIDO', \n",
    "                            'EXTENSÃO / INDEFERIMENTO', 'EXTENSÃO DOS EFEITOS DA CONDIÇÃO DE REFUGIADO - INDEFERIDO'],\n",
    "               'REASSENTAMENTO': ['REASSENTAMENTO'],\n",
    "               'RESOLUÇÃO CNIG': ['ENCAMINHAMENTO CNIG', 'INDEFERIDO CONARE - REGULARIZADO VIA CNIG'],\n",
    "               'PERDA': ['PERDA / ARQUIVAMENTO', 'PERDA / MANUTENÇÃO DA CONDIÇÃO DE REFUGIADO', 'PERDA / RENÚNCIA', \n",
    "                         'PERDA / VIAGEM NÃO AUTORIZADA', 'PERDA DA CONDIÇÃO DE REFUGIADO'],\n",
    "               'CESSAÇÃO': ['CESSAÇÃO', 'CESSAÇÃO / NATURALIZAÇÃO'],\n",
    "               'EXTINÇÃO': ['EXTINÇÃO (DESISTÊNCIA SEM FORMULÁRIO PRÓPRIO)', 'EXTINÇÃO (SEM RESOLUÇÃO DO MÉRITO) ART.6-B'],\n",
    "               'ARQUIVAMENTO': ['ARQUIVADO', 'ARQUIVAMENTO', 'PERDA / ARQUIVAMENTO', \n",
    "                                'ERRO DE LANÇAMENTO NA LISTAGEM DA PLENÁRIA']\n",
    "              }\n",
    "\n",
    "df_solicitacoes['Categoria'] = df_solicitacoes['Decisão CONARE'].apply(ajustar)"
   ]
  },
  {
   "cell_type": "code",
   "execution_count": 59,
   "id": "cfdf99c4",
   "metadata": {},
   "outputs": [
    {
     "data": {
      "text/html": [
       "<div>\n",
       "<style scoped>\n",
       "    .dataframe tbody tr th:only-of-type {\n",
       "        vertical-align: middle;\n",
       "    }\n",
       "\n",
       "    .dataframe tbody tr th {\n",
       "        vertical-align: top;\n",
       "    }\n",
       "\n",
       "    .dataframe thead th {\n",
       "        text-align: right;\n",
       "    }\n",
       "</style>\n",
       "<table border=\"1\" class=\"dataframe\">\n",
       "  <thead>\n",
       "    <tr style=\"text-align: right;\">\n",
       "      <th></th>\n",
       "      <th>Decisão CONARE</th>\n",
       "      <th>Data de solicitação</th>\n",
       "      <th>País de origem</th>\n",
       "      <th>Ano de Nascimento</th>\n",
       "      <th>Cidade de solicitação</th>\n",
       "      <th>Data da decisão</th>\n",
       "      <th>Continente de origem</th>\n",
       "      <th>Estado de solicitação</th>\n",
       "      <th>Região de solicitação</th>\n",
       "      <th>População 2010</th>\n",
       "      <th>Capital</th>\n",
       "      <th>Decisão</th>\n",
       "      <th>Categoria</th>\n",
       "    </tr>\n",
       "  </thead>\n",
       "  <tbody>\n",
       "    <tr>\n",
       "      <th>0</th>\n",
       "      <td>ELEGIBILIDADE - DEFERIDO</td>\n",
       "      <td>2020</td>\n",
       "      <td>SIRIA</td>\n",
       "      <td>2004</td>\n",
       "      <td>RIO DE JANEIRO</td>\n",
       "      <td>2021-02-05</td>\n",
       "      <td>ÁSIA</td>\n",
       "      <td>RJ</td>\n",
       "      <td>SUDESTE</td>\n",
       "      <td>6320446.0</td>\n",
       "      <td>SIM</td>\n",
       "      <td>CONCEDIDO</td>\n",
       "      <td>ELEGIBILIDADE</td>\n",
       "    </tr>\n",
       "    <tr>\n",
       "      <th>1</th>\n",
       "      <td>ELEGIBILIDADE - DEFERIDO</td>\n",
       "      <td>2020</td>\n",
       "      <td>SIRIA</td>\n",
       "      <td>1991</td>\n",
       "      <td>PORTO ALEGRE</td>\n",
       "      <td>2021-02-05</td>\n",
       "      <td>ÁSIA</td>\n",
       "      <td>RS</td>\n",
       "      <td>SUL</td>\n",
       "      <td>1409351.0</td>\n",
       "      <td>SIM</td>\n",
       "      <td>CONCEDIDO</td>\n",
       "      <td>ELEGIBILIDADE</td>\n",
       "    </tr>\n",
       "    <tr>\n",
       "      <th>2</th>\n",
       "      <td>ELEGIBILIDADE - DEFERIDO</td>\n",
       "      <td>2020</td>\n",
       "      <td>SIRIA</td>\n",
       "      <td>1999</td>\n",
       "      <td>SAO PAULO</td>\n",
       "      <td>2021-02-05</td>\n",
       "      <td>ÁSIA</td>\n",
       "      <td>SP</td>\n",
       "      <td>SUDESTE</td>\n",
       "      <td>11253503.0</td>\n",
       "      <td>SIM</td>\n",
       "      <td>CONCEDIDO</td>\n",
       "      <td>ELEGIBILIDADE</td>\n",
       "    </tr>\n",
       "    <tr>\n",
       "      <th>3</th>\n",
       "      <td>ELEGIBILIDADE - DEFERIDO</td>\n",
       "      <td>2020</td>\n",
       "      <td>SIRIA</td>\n",
       "      <td>2003</td>\n",
       "      <td>RIO DE JANEIRO</td>\n",
       "      <td>2021-02-05</td>\n",
       "      <td>ÁSIA</td>\n",
       "      <td>RJ</td>\n",
       "      <td>SUDESTE</td>\n",
       "      <td>6320446.0</td>\n",
       "      <td>SIM</td>\n",
       "      <td>CONCEDIDO</td>\n",
       "      <td>ELEGIBILIDADE</td>\n",
       "    </tr>\n",
       "    <tr>\n",
       "      <th>4</th>\n",
       "      <td>ELEGIBILIDADE - DEFERIDO</td>\n",
       "      <td>2020</td>\n",
       "      <td>SIRIA</td>\n",
       "      <td>1993</td>\n",
       "      <td>SAO PAULO</td>\n",
       "      <td>2021-02-05</td>\n",
       "      <td>ÁSIA</td>\n",
       "      <td>SP</td>\n",
       "      <td>SUDESTE</td>\n",
       "      <td>11253503.0</td>\n",
       "      <td>SIM</td>\n",
       "      <td>CONCEDIDO</td>\n",
       "      <td>ELEGIBILIDADE</td>\n",
       "    </tr>\n",
       "    <tr>\n",
       "      <th>...</th>\n",
       "      <td>...</td>\n",
       "      <td>...</td>\n",
       "      <td>...</td>\n",
       "      <td>...</td>\n",
       "      <td>...</td>\n",
       "      <td>...</td>\n",
       "      <td>...</td>\n",
       "      <td>...</td>\n",
       "      <td>...</td>\n",
       "      <td>...</td>\n",
       "      <td>...</td>\n",
       "      <td>...</td>\n",
       "      <td>...</td>\n",
       "    </tr>\n",
       "    <tr>\n",
       "      <th>74576</th>\n",
       "      <td>ERRO DE LANÇAMENTO NA LISTAGEM DA PLENÁRIA</td>\n",
       "      <td>2014</td>\n",
       "      <td>BURKINA FASO</td>\n",
       "      <td>1977</td>\n",
       "      <td>SAO PAULO</td>\n",
       "      <td>2015-12-11</td>\n",
       "      <td>ÁFRICA</td>\n",
       "      <td>SP</td>\n",
       "      <td>SUDESTE</td>\n",
       "      <td>11253503.0</td>\n",
       "      <td>SIM</td>\n",
       "      <td>DESCONTINUADO</td>\n",
       "      <td>ARQUIVAMENTO</td>\n",
       "    </tr>\n",
       "    <tr>\n",
       "      <th>74577</th>\n",
       "      <td>ERRO DE LANÇAMENTO NA LISTAGEM DA PLENÁRIA</td>\n",
       "      <td>2014</td>\n",
       "      <td>BURKINA FASO</td>\n",
       "      <td>1979</td>\n",
       "      <td>SAO PAULO</td>\n",
       "      <td>2015-12-11</td>\n",
       "      <td>ÁFRICA</td>\n",
       "      <td>SP</td>\n",
       "      <td>SUDESTE</td>\n",
       "      <td>11253503.0</td>\n",
       "      <td>SIM</td>\n",
       "      <td>DESCONTINUADO</td>\n",
       "      <td>ARQUIVAMENTO</td>\n",
       "    </tr>\n",
       "    <tr>\n",
       "      <th>74578</th>\n",
       "      <td>ERRO DE LANÇAMENTO NA LISTAGEM DA PLENÁRIA</td>\n",
       "      <td>2014</td>\n",
       "      <td>BURKINA FASO</td>\n",
       "      <td>1986</td>\n",
       "      <td>SAO PAULO</td>\n",
       "      <td>2015-12-11</td>\n",
       "      <td>ÁFRICA</td>\n",
       "      <td>SP</td>\n",
       "      <td>SUDESTE</td>\n",
       "      <td>11253503.0</td>\n",
       "      <td>SIM</td>\n",
       "      <td>DESCONTINUADO</td>\n",
       "      <td>ARQUIVAMENTO</td>\n",
       "    </tr>\n",
       "    <tr>\n",
       "      <th>74579</th>\n",
       "      <td>ERRO DE LANÇAMENTO NA LISTAGEM DA PLENÁRIA</td>\n",
       "      <td>2014</td>\n",
       "      <td>CUBA</td>\n",
       "      <td>1989</td>\n",
       "      <td>BRASILIA</td>\n",
       "      <td>2015-12-11</td>\n",
       "      <td>AMÉRICA</td>\n",
       "      <td>DF</td>\n",
       "      <td>CENTRO-OESTE</td>\n",
       "      <td>2570160.0</td>\n",
       "      <td>SIM</td>\n",
       "      <td>DESCONTINUADO</td>\n",
       "      <td>ARQUIVAMENTO</td>\n",
       "    </tr>\n",
       "    <tr>\n",
       "      <th>74580</th>\n",
       "      <td>ERRO DE LANÇAMENTO NA LISTAGEM DA PLENÁRIA</td>\n",
       "      <td>2014</td>\n",
       "      <td>EGITO</td>\n",
       "      <td>1986</td>\n",
       "      <td>SAO PAULO</td>\n",
       "      <td>2015-12-11</td>\n",
       "      <td>ÁFRICA</td>\n",
       "      <td>SP</td>\n",
       "      <td>SUDESTE</td>\n",
       "      <td>11253503.0</td>\n",
       "      <td>SIM</td>\n",
       "      <td>DESCONTINUADO</td>\n",
       "      <td>ARQUIVAMENTO</td>\n",
       "    </tr>\n",
       "  </tbody>\n",
       "</table>\n",
       "<p>74485 rows × 13 columns</p>\n",
       "</div>"
      ],
      "text/plain": [
       "                                   Decisão CONARE  Data de solicitação  \\\n",
       "0                        ELEGIBILIDADE - DEFERIDO                 2020   \n",
       "1                        ELEGIBILIDADE - DEFERIDO                 2020   \n",
       "2                        ELEGIBILIDADE - DEFERIDO                 2020   \n",
       "3                        ELEGIBILIDADE - DEFERIDO                 2020   \n",
       "4                        ELEGIBILIDADE - DEFERIDO                 2020   \n",
       "...                                           ...                  ...   \n",
       "74576  ERRO DE LANÇAMENTO NA LISTAGEM DA PLENÁRIA                 2014   \n",
       "74577  ERRO DE LANÇAMENTO NA LISTAGEM DA PLENÁRIA                 2014   \n",
       "74578  ERRO DE LANÇAMENTO NA LISTAGEM DA PLENÁRIA                 2014   \n",
       "74579  ERRO DE LANÇAMENTO NA LISTAGEM DA PLENÁRIA                 2014   \n",
       "74580  ERRO DE LANÇAMENTO NA LISTAGEM DA PLENÁRIA                 2014   \n",
       "\n",
       "      País de origem Ano de Nascimento Cidade de solicitação Data da decisão  \\\n",
       "0              SIRIA              2004        RIO DE JANEIRO      2021-02-05   \n",
       "1              SIRIA              1991          PORTO ALEGRE      2021-02-05   \n",
       "2              SIRIA              1999             SAO PAULO      2021-02-05   \n",
       "3              SIRIA              2003        RIO DE JANEIRO      2021-02-05   \n",
       "4              SIRIA              1993             SAO PAULO      2021-02-05   \n",
       "...              ...               ...                   ...             ...   \n",
       "74576   BURKINA FASO              1977             SAO PAULO      2015-12-11   \n",
       "74577   BURKINA FASO              1979             SAO PAULO      2015-12-11   \n",
       "74578   BURKINA FASO              1986             SAO PAULO      2015-12-11   \n",
       "74579           CUBA              1989              BRASILIA      2015-12-11   \n",
       "74580          EGITO              1986             SAO PAULO      2015-12-11   \n",
       "\n",
       "      Continente de origem Estado de solicitação Região de solicitação  \\\n",
       "0                     ÁSIA                    RJ               SUDESTE   \n",
       "1                     ÁSIA                    RS                   SUL   \n",
       "2                     ÁSIA                    SP               SUDESTE   \n",
       "3                     ÁSIA                    RJ               SUDESTE   \n",
       "4                     ÁSIA                    SP               SUDESTE   \n",
       "...                    ...                   ...                   ...   \n",
       "74576               ÁFRICA                    SP               SUDESTE   \n",
       "74577               ÁFRICA                    SP               SUDESTE   \n",
       "74578               ÁFRICA                    SP               SUDESTE   \n",
       "74579              AMÉRICA                    DF          CENTRO-OESTE   \n",
       "74580               ÁFRICA                    SP               SUDESTE   \n",
       "\n",
       "       População 2010 Capital        Decisão      Categoria  \n",
       "0           6320446.0     SIM      CONCEDIDO  ELEGIBILIDADE  \n",
       "1           1409351.0     SIM      CONCEDIDO  ELEGIBILIDADE  \n",
       "2          11253503.0     SIM      CONCEDIDO  ELEGIBILIDADE  \n",
       "3           6320446.0     SIM      CONCEDIDO  ELEGIBILIDADE  \n",
       "4          11253503.0     SIM      CONCEDIDO  ELEGIBILIDADE  \n",
       "...               ...     ...            ...            ...  \n",
       "74576      11253503.0     SIM  DESCONTINUADO   ARQUIVAMENTO  \n",
       "74577      11253503.0     SIM  DESCONTINUADO   ARQUIVAMENTO  \n",
       "74578      11253503.0     SIM  DESCONTINUADO   ARQUIVAMENTO  \n",
       "74579       2570160.0     SIM  DESCONTINUADO   ARQUIVAMENTO  \n",
       "74580      11253503.0     SIM  DESCONTINUADO   ARQUIVAMENTO  \n",
       "\n",
       "[74485 rows x 13 columns]"
      ]
     },
     "execution_count": 59,
     "metadata": {},
     "output_type": "execute_result"
    }
   ],
   "source": [
    "df_solicitacoes"
   ]
  },
  {
   "cell_type": "markdown",
   "id": "4e9c205e",
   "metadata": {},
   "source": [
    "### Exportação dos dados tratados"
   ]
  },
  {
   "cell_type": "code",
   "execution_count": 60,
   "id": "9f06fd0a",
   "metadata": {},
   "outputs": [],
   "source": [
    "df_solicitacoes.to_excel(path + 'base-tratada.xlsx', sheet_name= 'dados')"
   ]
  },
  {
   "cell_type": "markdown",
   "id": "b5892963",
   "metadata": {},
   "source": [
    "### Visualização dos dados"
   ]
  },
  {
   "cell_type": "markdown",
   "id": "f96a62ed",
   "metadata": {},
   "source": [
    "[Clique aqui](https://app.powerbi.com/view?r=eyJrIjoiZGE2ZWJkYjEtNDJhNy00MmQ0LTlmZmItYWI2NmFkZjQ4YTg2IiwidCI6IjFhMzI3OTZlLTE2YjctNDM0NS04ZWZiLWE5ZDc0YTJiOGNmNiJ9&pageName=ReportSectionab7da524e7800e5a65c4) para acessar o painel e a análise dos dados. "
   ]
  }
 ],
 "metadata": {
  "kernelspec": {
   "display_name": "Python 3 (ipykernel)",
   "language": "python",
   "name": "python3"
  },
  "language_info": {
   "codemirror_mode": {
    "name": "ipython",
    "version": 3
   },
   "file_extension": ".py",
   "mimetype": "text/x-python",
   "name": "python",
   "nbconvert_exporter": "python",
   "pygments_lexer": "ipython3",
   "version": "3.9.7"
  }
 },
 "nbformat": 4,
 "nbformat_minor": 5
}
